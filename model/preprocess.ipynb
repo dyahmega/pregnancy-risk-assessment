{
 "cells": [
  {
   "cell_type": "markdown",
   "id": "9232f44a",
   "metadata": {},
   "source": [
    "##### Perubahan\n",
    "- Function realistic_labeling disesuaiin\n",
    "- ngga pake smote\n",
    "- blm stratified random sampling\n",
    "- label salah\n",
    "- ngga pake stratified random sampling\n",
    "- labeling pake np.random.choice"
   ]
  },
  {
   "cell_type": "markdown",
   "id": "38dd3b48",
   "metadata": {
    "id": "38dd3b48"
   },
   "source": [
    "#### Import Library"
   ]
  },
  {
   "cell_type": "code",
   "execution_count": 1,
   "id": "9664e00f",
   "metadata": {
    "colab": {
     "base_uri": "https://localhost:8080/"
    },
    "executionInfo": {
     "elapsed": 32539,
     "status": "ok",
     "timestamp": 1746861903363,
     "user": {
      "displayName": "Dyah Megawati",
      "userId": "05129674134829867442"
     },
     "user_tz": -420
    },
    "id": "9664e00f",
    "outputId": "353bdb21-3251-441e-a774-36802c78a6ab"
   },
   "outputs": [],
   "source": [
    "import pandas as pd\n",
    "import numpy as np\n",
    "import matplotlib.pyplot as plt\n",
    "import seaborn as sns\n",
    "import math\n",
    "from matplotlib.colors import ListedColormap\n",
    "from imblearn.over_sampling import SMOTE\n",
    "from sklearn.preprocessing import LabelEncoder, StandardScaler, MinMaxScaler\n",
    "from sklearn.model_selection import train_test_split, cross_val_score\n",
    "from sklearn.tree import DecisionTreeClassifier, plot_tree\n",
    "from sklearn.metrics import classification_report, confusion_matrix, accuracy_score, precision_score, recall_score, f1_score\n",
    "import pickle\n",
    "from sklearn.model_selection import StratifiedKFold, cross_val_score\n",
    "from collections import Counter\n",
    "from sklearn import preprocessing\n"
   ]
  },
  {
   "cell_type": "markdown",
   "id": "99573655",
   "metadata": {
    "id": "99573655"
   },
   "source": [
    "#### Load Dataset"
   ]
  },
  {
   "cell_type": "code",
   "execution_count": null,
   "id": "fa29acb3",
   "metadata": {
    "colab": {
     "base_uri": "https://localhost:8080/",
     "height": 243
    },
    "executionInfo": {
     "elapsed": 2293,
     "status": "ok",
     "timestamp": 1746861909255,
     "user": {
      "displayName": "Dyah Megawati",
      "userId": "05129674134829867442"
     },
     "user_tz": -420
    },
    "id": "fa29acb3",
    "outputId": "56bb40a0-8ecd-4d58-a356-75e75323fce2"
   },
   "outputs": [
    {
     "data": {
      "text/html": [
       "<div>\n",
       "<style scoped>\n",
       "    .dataframe tbody tr th:only-of-type {\n",
       "        vertical-align: middle;\n",
       "    }\n",
       "\n",
       "    .dataframe tbody tr th {\n",
       "        vertical-align: top;\n",
       "    }\n",
       "\n",
       "    .dataframe thead th {\n",
       "        text-align: right;\n",
       "    }\n",
       "</style>\n",
       "<table border=\"1\" class=\"dataframe\">\n",
       "  <thead>\n",
       "    <tr style=\"text-align: right;\">\n",
       "      <th></th>\n",
       "      <th>nama</th>\n",
       "      <th>umur_ibu</th>\n",
       "      <th>gravida</th>\n",
       "      <th>TiTi_Tika</th>\n",
       "      <th>umur_kehamilan</th>\n",
       "      <th>berat_ibu</th>\n",
       "      <th>tinggi_badan</th>\n",
       "      <th>tekanan_darah</th>\n",
       "      <th>penyakit_anemia</th>\n",
       "      <th>penyakit_kuning</th>\n",
       "      <th>posisi_janin</th>\n",
       "      <th>gerakan_janin</th>\n",
       "      <th>denyut_jantung_janin</th>\n",
       "      <th>kadar_albumin</th>\n",
       "      <th>tes_kadar_gula</th>\n",
       "      <th>hasil_tes_VDRL</th>\n",
       "      <th>hasil_tes_HbsAg</th>\n",
       "      <th>tingkat_risiko_kehamilan</th>\n",
       "    </tr>\n",
       "  </thead>\n",
       "  <tbody>\n",
       "    <tr>\n",
       "      <th>0</th>\n",
       "      <td>Shalekha</td>\n",
       "      <td>32</td>\n",
       "      <td>3rd</td>\n",
       "      <td>2nd</td>\n",
       "      <td>23 week</td>\n",
       "      <td>53 kg</td>\n",
       "      <td>5.3''</td>\n",
       "      <td>90/60</td>\n",
       "      <td>NaN</td>\n",
       "      <td>NaN</td>\n",
       "      <td>Normal</td>\n",
       "      <td>Normal</td>\n",
       "      <td>140m</td>\n",
       "      <td>NaN</td>\n",
       "      <td>No</td>\n",
       "      <td>Negative</td>\n",
       "      <td>Negative</td>\n",
       "      <td>Yes</td>\n",
       "    </tr>\n",
       "    <tr>\n",
       "      <th>1</th>\n",
       "      <td>Moina</td>\n",
       "      <td>25</td>\n",
       "      <td>2nd</td>\n",
       "      <td>2nd</td>\n",
       "      <td>38 week</td>\n",
       "      <td>60 kg</td>\n",
       "      <td>5.2''</td>\n",
       "      <td>100/70</td>\n",
       "      <td>NaN</td>\n",
       "      <td>NaN</td>\n",
       "      <td>Normal</td>\n",
       "      <td>Normal</td>\n",
       "      <td>130m</td>\n",
       "      <td>NaN</td>\n",
       "      <td>Yes</td>\n",
       "      <td>Positive</td>\n",
       "      <td>Negative</td>\n",
       "      <td>No</td>\n",
       "    </tr>\n",
       "    <tr>\n",
       "      <th>2</th>\n",
       "      <td>Jesmin</td>\n",
       "      <td>32</td>\n",
       "      <td>3rd</td>\n",
       "      <td>1st</td>\n",
       "      <td>30 week</td>\n",
       "      <td>55 kg</td>\n",
       "      <td>5.0''</td>\n",
       "      <td>100/60</td>\n",
       "      <td>Minimal</td>\n",
       "      <td>NaN</td>\n",
       "      <td>Normal</td>\n",
       "      <td>Normal</td>\n",
       "      <td>150m</td>\n",
       "      <td>NaN</td>\n",
       "      <td>Yes</td>\n",
       "      <td>Negative</td>\n",
       "      <td>Negative</td>\n",
       "      <td>Yes</td>\n",
       "    </tr>\n",
       "    <tr>\n",
       "      <th>3</th>\n",
       "      <td>Shanta</td>\n",
       "      <td>32</td>\n",
       "      <td>2nd</td>\n",
       "      <td>1st</td>\n",
       "      <td>25 week</td>\n",
       "      <td>55 kg</td>\n",
       "      <td>5.4''</td>\n",
       "      <td>100/65</td>\n",
       "      <td>NaN</td>\n",
       "      <td>NaN</td>\n",
       "      <td>Normal</td>\n",
       "      <td>Normal</td>\n",
       "      <td>140m</td>\n",
       "      <td>NaN</td>\n",
       "      <td>Yes</td>\n",
       "      <td>Positive</td>\n",
       "      <td>Negative</td>\n",
       "      <td>Yes</td>\n",
       "    </tr>\n",
       "    <tr>\n",
       "      <th>4</th>\n",
       "      <td>Tania Akter</td>\n",
       "      <td>20</td>\n",
       "      <td>1st</td>\n",
       "      <td>2nd</td>\n",
       "      <td>30 week</td>\n",
       "      <td>53 kg</td>\n",
       "      <td>5.2''</td>\n",
       "      <td>100/55</td>\n",
       "      <td>NaN</td>\n",
       "      <td>NaN</td>\n",
       "      <td>Normal</td>\n",
       "      <td>Normal</td>\n",
       "      <td>125m</td>\n",
       "      <td>NaN</td>\n",
       "      <td>Yes</td>\n",
       "      <td>Negative</td>\n",
       "      <td>Negative</td>\n",
       "      <td>No</td>\n",
       "    </tr>\n",
       "  </tbody>\n",
       "</table>\n",
       "</div>"
      ],
      "text/plain": [
       "          nama  umur_ibu gravida TiTi_Tika umur_kehamilan berat_ibu  \\\n",
       "0     Shalekha        32     3rd       2nd        23 week     53 kg   \n",
       "1        Moina        25     2nd       2nd        38 week     60 kg   \n",
       "2       Jesmin        32     3rd       1st        30 week     55 kg   \n",
       "3       Shanta        32     2nd       1st        25 week     55 kg   \n",
       "4  Tania Akter        20     1st       2nd        30 week     53 kg   \n",
       "\n",
       "  tinggi_badan tekanan_darah penyakit_anemia penyakit_kuning posisi_janin  \\\n",
       "0        5.3''         90/60             NaN             NaN       Normal   \n",
       "1        5.2''        100/70             NaN             NaN       Normal   \n",
       "2        5.0''        100/60         Minimal             NaN       Normal   \n",
       "3        5.4''        100/65             NaN             NaN       Normal   \n",
       "4        5.2''        100/55             NaN             NaN       Normal   \n",
       "\n",
       "  gerakan_janin denyut_jantung_janin kadar_albumin tes_kadar_gula  \\\n",
       "0        Normal                 140m           NaN             No   \n",
       "1        Normal                 130m           NaN            Yes   \n",
       "2        Normal                 150m           NaN            Yes   \n",
       "3        Normal                 140m           NaN            Yes   \n",
       "4        Normal                 125m           NaN            Yes   \n",
       "\n",
       "  hasil_tes_VDRL hasil_tes_HbsAg tingkat_risiko_kehamilan  \n",
       "0       Negative        Negative                      Yes  \n",
       "1       Positive        Negative                       No  \n",
       "2       Negative        Negative                      Yes  \n",
       "3       Positive        Negative                      Yes  \n",
       "4       Negative        Negative                       No  "
      ]
     },
     "execution_count": 2,
     "metadata": {},
     "output_type": "execute_result"
    }
   ],
   "source": [
    "pregnancy_df = pd.read_csv('pregnancy-dataset.csv')\n",
    "pregnancy_df.head()"
   ]
  },
  {
   "cell_type": "code",
   "execution_count": 3,
   "id": "13f7829a",
   "metadata": {
    "colab": {
     "base_uri": "https://localhost:8080/"
    },
    "executionInfo": {
     "elapsed": 25,
     "status": "ok",
     "timestamp": 1746861912230,
     "user": {
      "displayName": "Dyah Megawati",
      "userId": "05129674134829867442"
     },
     "user_tz": -420
    },
    "id": "13f7829a",
    "outputId": "3bfdb764-afeb-4a54-d2d5-dc89f6bb7940"
   },
   "outputs": [
    {
     "name": "stdout",
     "output_type": "stream",
     "text": [
      "Informasi dataset:\n",
      "<class 'pandas.core.frame.DataFrame'>\n",
      "RangeIndex: 998 entries, 0 to 997\n",
      "Data columns (total 18 columns):\n",
      " #   Column                    Non-Null Count  Dtype \n",
      "---  ------                    --------------  ----- \n",
      " 0   nama                      998 non-null    object\n",
      " 1   umur_ibu                  998 non-null    int64 \n",
      " 2   gravida                   998 non-null    object\n",
      " 3   TiTi_Tika                 998 non-null    object\n",
      " 4   umur_kehamilan            998 non-null    object\n",
      " 5   berat_ibu                 998 non-null    object\n",
      " 6   tinggi_badan              998 non-null    object\n",
      " 7   tekanan_darah             998 non-null    object\n",
      " 8   penyakit_anemia           132 non-null    object\n",
      " 9   penyakit_kuning           12 non-null     object\n",
      " 10  posisi_janin              998 non-null    object\n",
      " 11  gerakan_janin             998 non-null    object\n",
      " 12  denyut_jantung_janin      998 non-null    object\n",
      " 13  kadar_albumin             134 non-null    object\n",
      " 14  tes_kadar_gula            998 non-null    object\n",
      " 15  hasil_tes_VDRL            998 non-null    object\n",
      " 16  hasil_tes_HbsAg           998 non-null    object\n",
      " 17  tingkat_risiko_kehamilan  998 non-null    object\n",
      "dtypes: int64(1), object(17)\n",
      "memory usage: 140.5+ KB\n",
      "nama object\n",
      "['Shalekha' 'Moina' 'Jesmin']\n",
      "\n",
      "umur_ibu int64\n",
      "17 32\n",
      "\n",
      "gravida object\n",
      "['3rd' '2nd' '1st']\n",
      "\n",
      "TiTi_Tika object\n",
      "['2nd' '1st' '3rd']\n",
      "\n",
      "umur_kehamilan object\n",
      "['23 week' '38 week' '30 week']\n",
      "\n",
      "berat_ibu object\n",
      "['53 kg' '60 kg' '55 kg']\n",
      "\n",
      "tinggi_badan object\n",
      "[\"5.3''\" \"5.2''\" \"5.0''\"]\n",
      "\n",
      "tekanan_darah object\n",
      "['90/60' '100/70' '100/60']\n",
      "\n",
      "penyakit_anemia object\n",
      "[nan 'Minimal' 'Medium']\n",
      "\n",
      "penyakit_kuning object\n",
      "[nan 'Medium' 'Minimal']\n",
      "\n",
      "posisi_janin object\n",
      "['Normal' 'Abnormal']\n",
      "\n",
      "gerakan_janin object\n",
      "['Normal']\n",
      "\n",
      "denyut_jantung_janin object\n",
      "['140m' '130m' '150m']\n",
      "\n",
      "kadar_albumin object\n",
      "[nan 'Medium' 'Higher']\n",
      "\n",
      "tes_kadar_gula object\n",
      "['No' 'Yes']\n",
      "\n",
      "hasil_tes_VDRL object\n",
      "['Negative' 'Positive']\n",
      "\n",
      "hasil_tes_HbsAg object\n",
      "['Negative' 'Positive']\n",
      "\n",
      "tingkat_risiko_kehamilan object\n",
      "['Yes' 'No']\n",
      "\n"
     ]
    }
   ],
   "source": [
    "print(\"Informasi dataset:\")\n",
    "pregnancy_df.info()\n",
    "\n",
    "# Cek value setiap kolom/tipe data satu per satu dengan loop\n",
    "for dtype, col in (list(zip(pregnancy_df.dtypes, pregnancy_df.columns))):\n",
    "    if dtype == 'int64' or dtype == 'float64':\n",
    "        print(col, dtype)\n",
    "        print(pregnancy_df[col].min(), pregnancy_df[col].max())\n",
    "    else:\n",
    "        print(col, dtype)\n",
    "        print(pregnancy_df[col].unique()[:3])\n",
    "\n",
    "    print()\n",
    "\n"
   ]
  },
  {
   "cell_type": "code",
   "execution_count": 4,
   "id": "0055c239",
   "metadata": {
    "colab": {
     "base_uri": "https://localhost:8080/",
     "height": 178
    },
    "executionInfo": {
     "elapsed": 44,
     "status": "ok",
     "timestamp": 1746861917988,
     "user": {
      "displayName": "Dyah Megawati",
      "userId": "05129674134829867442"
     },
     "user_tz": -420
    },
    "id": "0055c239",
    "outputId": "b3bd09f1-b845-4e60-c9c2-7426abf4b2b6"
   },
   "outputs": [
    {
     "data": {
      "text/plain": [
       "tingkat_risiko_kehamilan\n",
       "Yes    666\n",
       "No     332\n",
       "Name: count, dtype: int64"
      ]
     },
     "execution_count": 4,
     "metadata": {},
     "output_type": "execute_result"
    }
   ],
   "source": [
    "tingkat_risiko_kehamilan = pregnancy_df['tingkat_risiko_kehamilan']\n",
    "tingkat_risiko_kehamilan.value_counts()"
   ]
  },
  {
   "cell_type": "code",
   "execution_count": 5,
   "id": "0d93aef6",
   "metadata": {
    "colab": {
     "base_uri": "https://localhost:8080/"
    },
    "executionInfo": {
     "elapsed": 30,
     "status": "ok",
     "timestamp": 1746861919921,
     "user": {
      "displayName": "Dyah Megawati",
      "userId": "05129674134829867442"
     },
     "user_tz": -420
    },
    "id": "0d93aef6",
    "outputId": "c6a72c2f-4df8-4fae-ddd9-4d8173e96e7e"
   },
   "outputs": [
    {
     "name": "stdout",
     "output_type": "stream",
     "text": [
      "\n",
      "Missing values per fitur:\n",
      "nama                          0\n",
      "umur_ibu                      0\n",
      "gravida                       0\n",
      "TiTi_Tika                     0\n",
      "umur_kehamilan                0\n",
      "berat_ibu                     0\n",
      "tinggi_badan                  0\n",
      "tekanan_darah                 0\n",
      "penyakit_anemia             866\n",
      "penyakit_kuning             986\n",
      "posisi_janin                  0\n",
      "gerakan_janin                 0\n",
      "denyut_jantung_janin          0\n",
      "kadar_albumin               864\n",
      "tes_kadar_gula                0\n",
      "hasil_tes_VDRL                0\n",
      "hasil_tes_HbsAg               0\n",
      "tingkat_risiko_kehamilan      0\n",
      "dtype: int64\n"
     ]
    }
   ],
   "source": [
    "print(\"\\nMissing values per fitur:\")\n",
    "print(pregnancy_df.isnull().sum())"
   ]
  },
  {
   "cell_type": "markdown",
   "id": "67531d78",
   "metadata": {
    "id": "67531d78"
   },
   "source": [
    "##### Analisis\n",
    "1. Ada 998 baris dan 18 fitur data\n",
    "2. Tipe data ada yg masih belum sesuai (hanya fitur kolom ibu yg tipe datanya int)\n",
    "3. Ada 875 missvalues di fitur penyakit_anemia, 986 missvalues di fitur penyakit_kuning, dan 864 missvalues di fitur kadar_albumin\n",
    "4. Masih banyak data yg isinya campuran, seperti 38 week, 1st, dll\n",
    "5. Kalau berdasarkan penilaian peneliti sebelumnya perbandingan ibu berisiko tinggi dibandingkan ibu tidak berisiko tinggi kehamilan pd dataset, yaitu 2 : 1.\n",
    "\n",
    "Note :\n",
    "- Fitur yg akan dipakai adalah fitur  (umur_ibu, gravida, umur_kehamilan, tinggi_badan, tekanan_darah, penyakit_anemia, posisi_janin, hasil_tes_VDRL, hasil_tes_HbsAg)"
   ]
  },
  {
   "cell_type": "markdown",
   "id": "4c8c1aad",
   "metadata": {
    "id": "4c8c1aad"
   },
   "source": [
    "#### Data Cleaning"
   ]
  },
  {
   "cell_type": "code",
   "execution_count": 6,
   "id": "a36cc319",
   "metadata": {
    "colab": {
     "base_uri": "https://localhost:8080/"
    },
    "executionInfo": {
     "elapsed": 16,
     "status": "ok",
     "timestamp": 1746861922499,
     "user": {
      "displayName": "Dyah Megawati",
      "userId": "05129674134829867442"
     },
     "user_tz": -420
    },
    "id": "a36cc319",
    "outputId": "fb5f409b-d8b5-4aec-c6d5-4eb9d23fbcac"
   },
   "outputs": [
    {
     "name": "stdout",
     "output_type": "stream",
     "text": [
      "Informasi dataset:\n",
      "<class 'pandas.core.frame.DataFrame'>\n",
      "RangeIndex: 998 entries, 0 to 997\n",
      "Data columns (total 9 columns):\n",
      " #   Column           Non-Null Count  Dtype \n",
      "---  ------           --------------  ----- \n",
      " 0   umur_ibu         998 non-null    int64 \n",
      " 1   gravida          998 non-null    object\n",
      " 2   umur_kehamilan   998 non-null    object\n",
      " 3   tinggi_badan     998 non-null    object\n",
      " 4   tekanan_darah    998 non-null    object\n",
      " 5   penyakit_anemia  132 non-null    object\n",
      " 6   posisi_janin     998 non-null    object\n",
      " 7   hasil_tes_VDRL   998 non-null    object\n",
      " 8   hasil_tes_HbsAg  998 non-null    object\n",
      "dtypes: int64(1), object(8)\n",
      "memory usage: 70.3+ KB\n"
     ]
    }
   ],
   "source": [
    "# Memilih kolom yang akan digunakan\n",
    "selected_columns = ['umur_ibu', 'gravida', 'umur_kehamilan', 'tinggi_badan',\n",
    "                    'tekanan_darah', 'penyakit_anemia', 'posisi_janin', 'hasil_tes_VDRL', 'hasil_tes_HbsAg']\n",
    "\n",
    "pregnancydf_selected = pregnancy_df[selected_columns].copy()\n",
    "print(\"Informasi dataset:\")\n",
    "pregnancydf_selected.info()"
   ]
  },
  {
   "cell_type": "code",
   "execution_count": 7,
   "id": "f80efc9b",
   "metadata": {
    "colab": {
     "base_uri": "https://localhost:8080/",
     "height": 414
    },
    "executionInfo": {
     "elapsed": 148,
     "status": "ok",
     "timestamp": 1746861924911,
     "user": {
      "displayName": "Dyah Megawati",
      "userId": "05129674134829867442"
     },
     "user_tz": -420
    },
    "id": "f80efc9b",
    "outputId": "3bbbe6d9-dc52-48d7-eed0-7120130940b1"
   },
   "outputs": [
    {
     "name": "stdout",
     "output_type": "stream",
     "text": [
      "umur_ibu                    int64\n",
      "gravida                     int32\n",
      "umur_kehamilan              int32\n",
      "tinggi_badan              float64\n",
      "penyakit_anemia            object\n",
      "posisi_janin               object\n",
      "hasil_tes_VDRL             object\n",
      "hasil_tes_HbsAg            object\n",
      "tekanan_sistolik            int32\n",
      "tekanan_diastolik           int32\n",
      "kategori_tekanan_darah     object\n",
      "dtype: object\n"
     ]
    },
    {
     "data": {
      "text/html": [
       "<div>\n",
       "<style scoped>\n",
       "    .dataframe tbody tr th:only-of-type {\n",
       "        vertical-align: middle;\n",
       "    }\n",
       "\n",
       "    .dataframe tbody tr th {\n",
       "        vertical-align: top;\n",
       "    }\n",
       "\n",
       "    .dataframe thead th {\n",
       "        text-align: right;\n",
       "    }\n",
       "</style>\n",
       "<table border=\"1\" class=\"dataframe\">\n",
       "  <thead>\n",
       "    <tr style=\"text-align: right;\">\n",
       "      <th></th>\n",
       "      <th>umur_ibu</th>\n",
       "      <th>gravida</th>\n",
       "      <th>umur_kehamilan</th>\n",
       "      <th>tinggi_badan</th>\n",
       "      <th>penyakit_anemia</th>\n",
       "      <th>posisi_janin</th>\n",
       "      <th>hasil_tes_VDRL</th>\n",
       "      <th>hasil_tes_HbsAg</th>\n",
       "      <th>tekanan_sistolik</th>\n",
       "      <th>tekanan_diastolik</th>\n",
       "      <th>kategori_tekanan_darah</th>\n",
       "    </tr>\n",
       "  </thead>\n",
       "  <tbody>\n",
       "    <tr>\n",
       "      <th>0</th>\n",
       "      <td>32</td>\n",
       "      <td>3</td>\n",
       "      <td>23</td>\n",
       "      <td>160.02</td>\n",
       "      <td>NaN</td>\n",
       "      <td>Normal</td>\n",
       "      <td>Negative</td>\n",
       "      <td>Negative</td>\n",
       "      <td>90</td>\n",
       "      <td>60</td>\n",
       "      <td>Normal</td>\n",
       "    </tr>\n",
       "    <tr>\n",
       "      <th>1</th>\n",
       "      <td>25</td>\n",
       "      <td>2</td>\n",
       "      <td>38</td>\n",
       "      <td>157.48</td>\n",
       "      <td>NaN</td>\n",
       "      <td>Normal</td>\n",
       "      <td>Positive</td>\n",
       "      <td>Negative</td>\n",
       "      <td>100</td>\n",
       "      <td>70</td>\n",
       "      <td>Normal</td>\n",
       "    </tr>\n",
       "    <tr>\n",
       "      <th>2</th>\n",
       "      <td>32</td>\n",
       "      <td>3</td>\n",
       "      <td>30</td>\n",
       "      <td>152.40</td>\n",
       "      <td>Minimal</td>\n",
       "      <td>Normal</td>\n",
       "      <td>Negative</td>\n",
       "      <td>Negative</td>\n",
       "      <td>100</td>\n",
       "      <td>60</td>\n",
       "      <td>Normal</td>\n",
       "    </tr>\n",
       "    <tr>\n",
       "      <th>3</th>\n",
       "      <td>32</td>\n",
       "      <td>2</td>\n",
       "      <td>25</td>\n",
       "      <td>162.56</td>\n",
       "      <td>NaN</td>\n",
       "      <td>Normal</td>\n",
       "      <td>Positive</td>\n",
       "      <td>Negative</td>\n",
       "      <td>100</td>\n",
       "      <td>65</td>\n",
       "      <td>Normal</td>\n",
       "    </tr>\n",
       "    <tr>\n",
       "      <th>4</th>\n",
       "      <td>20</td>\n",
       "      <td>1</td>\n",
       "      <td>30</td>\n",
       "      <td>157.48</td>\n",
       "      <td>NaN</td>\n",
       "      <td>Normal</td>\n",
       "      <td>Negative</td>\n",
       "      <td>Negative</td>\n",
       "      <td>100</td>\n",
       "      <td>55</td>\n",
       "      <td>Hipotensi</td>\n",
       "    </tr>\n",
       "  </tbody>\n",
       "</table>\n",
       "</div>"
      ],
      "text/plain": [
       "   umur_ibu  gravida  umur_kehamilan  tinggi_badan penyakit_anemia  \\\n",
       "0        32        3              23        160.02             NaN   \n",
       "1        25        2              38        157.48             NaN   \n",
       "2        32        3              30        152.40         Minimal   \n",
       "3        32        2              25        162.56             NaN   \n",
       "4        20        1              30        157.48             NaN   \n",
       "\n",
       "  posisi_janin hasil_tes_VDRL hasil_tes_HbsAg  tekanan_sistolik  \\\n",
       "0       Normal       Negative        Negative                90   \n",
       "1       Normal       Positive        Negative               100   \n",
       "2       Normal       Negative        Negative               100   \n",
       "3       Normal       Positive        Negative               100   \n",
       "4       Normal       Negative        Negative               100   \n",
       "\n",
       "   tekanan_diastolik kategori_tekanan_darah  \n",
       "0                 60                 Normal  \n",
       "1                 70                 Normal  \n",
       "2                 60                 Normal  \n",
       "3                 65                 Normal  \n",
       "4                 55              Hipotensi  "
      ]
     },
     "execution_count": 7,
     "metadata": {},
     "output_type": "execute_result"
    }
   ],
   "source": [
    "# Membersihkan fitur 'gravida' (mengambil hanya angka)\n",
    "pregnancydf_selected['gravida'] = pregnancydf_selected['gravida'].str.extract(r'(\\d+)').astype(int)\n",
    "\n",
    "# Membersihkan fitur 'umur_kehamilan' (menghapus kata \"week\")\n",
    "pregnancydf_selected['umur_kehamilan'] = pregnancydf_selected['umur_kehamilan'].str.replace(r'\\D+', '', regex=True).astype(int)\n",
    "\n",
    "# Fungsi konversi tinggi badan dari feet ke cm\n",
    "def feet_to_cm(value):\n",
    "    try:\n",
    "        feet, inches = map(float, value.replace('\"', '').replace(\"'\", '').split('.'))\n",
    "        return round((feet * 30.48) + (inches * 2.54), 2)  # Menghasilkan float dengan 2 desimal\n",
    "    except:\n",
    "        return None  # Mengembalikan None jika ada kesalahan format\n",
    "\n",
    "# Mengubah tinggi_badan ke cm dan mengonversinya ke float\n",
    "pregnancydf_selected['tinggi_badan'] = pregnancydf_selected['tinggi_badan'].apply(feet_to_cm).astype(float)\n",
    "\n",
    "# Memisahkan tekanan darah menjadi dua kolom, tetap string dulu\n",
    "pregnancydf_selected[['tekanan_sistolik', 'tekanan_diastolik']] = pregnancydf_selected['tekanan_darah'].str.split('/', expand=True)\n",
    "\n",
    "# Konversi ke integer\n",
    "pregnancydf_selected['tekanan_sistolik'] = pregnancydf_selected['tekanan_sistolik'].astype(int)\n",
    "pregnancydf_selected['tekanan_diastolik'] = pregnancydf_selected['tekanan_diastolik'].astype(int)\n",
    "\n",
    "# Hapus kolom tekanan_darah jika tidak diperlukan\n",
    "pregnancydf_selected.drop(columns=['tekanan_darah'], inplace=True)\n",
    "\n",
    "# Fungsi klasifikasi tekanan darah\n",
    "def klasifikasi_tekanan_darah(s, d):\n",
    "    if s < 90 or d < 60:\n",
    "        return 'Hipotensi'\n",
    "    elif 90 <= s < 120 and 60 <= d < 80:\n",
    "        return 'Normal'\n",
    "    elif 120 <= s < 140 or 80 <= d < 90:\n",
    "        return 'Prehipertensi'\n",
    "    elif 140 <= s < 160 or 90 <= d < 100:\n",
    "        return 'Hipertensi Stage 1'\n",
    "    elif s >= 160 or d >= 100:\n",
    "        return 'Hipertensi Stage 2'\n",
    "    else:\n",
    "        return 'Tidak diketahui'\n",
    "\n",
    "# Terapkan fungsi ke dataframe\n",
    "pregnancydf_selected['kategori_tekanan_darah'] = pregnancydf_selected.apply(\n",
    "    lambda row: klasifikasi_tekanan_darah(row['tekanan_sistolik'], row['tekanan_diastolik']),\n",
    "    axis=1\n",
    ")\n",
    "\n",
    "# Mengecek hasil akhir\n",
    "print(pregnancydf_selected.dtypes)\n",
    "pregnancydf_selected.head()"
   ]
  },
  {
   "cell_type": "code",
   "execution_count": 8,
   "id": "f0f77c9e",
   "metadata": {
    "colab": {
     "base_uri": "https://localhost:8080/"
    },
    "executionInfo": {
     "elapsed": 51,
     "status": "ok",
     "timestamp": 1746861928847,
     "user": {
      "displayName": "Dyah Megawati",
      "userId": "05129674134829867442"
     },
     "user_tz": -420
    },
    "id": "f0f77c9e",
    "outputId": "883bba92-2fa2-492d-88c4-d4e43e2a1d28"
   },
   "outputs": [
    {
     "name": "stdout",
     "output_type": "stream",
     "text": [
      "\n",
      "Missing values per fitur:\n",
      "umur_ibu                    0\n",
      "gravida                     0\n",
      "umur_kehamilan              0\n",
      "tinggi_badan                0\n",
      "penyakit_anemia           866\n",
      "posisi_janin                0\n",
      "hasil_tes_VDRL              0\n",
      "hasil_tes_HbsAg             0\n",
      "tekanan_sistolik            0\n",
      "tekanan_diastolik           0\n",
      "kategori_tekanan_darah      0\n",
      "dtype: int64\n"
     ]
    }
   ],
   "source": [
    "# Cek missing values\n",
    "print(\"\\nMissing values per fitur:\")\n",
    "print(pregnancydf_selected.isnull().sum())"
   ]
  },
  {
   "cell_type": "markdown",
   "id": "5bb730a6",
   "metadata": {
    "id": "5bb730a6"
   },
   "source": [
    "##### Alasan jumlah missing values banyak\n",
    "Sepertinya karena nilai default dari dataset yg menyebutkan jk ibu hamil yg tidak memiliki penyakit anemia dituliskan dg None. Oleh karena itu, kata None akan diganti dengan kata negatif"
   ]
  },
  {
   "cell_type": "code",
   "execution_count": 9,
   "id": "4e1ca8b6",
   "metadata": {
    "colab": {
     "base_uri": "https://localhost:8080/",
     "height": 206
    },
    "executionInfo": {
     "elapsed": 106,
     "status": "ok",
     "timestamp": 1746861931125,
     "user": {
      "displayName": "Dyah Megawati",
      "userId": "05129674134829867442"
     },
     "user_tz": -420
    },
    "id": "4e1ca8b6",
    "outputId": "347e145b-3a00-43dd-ea49-d6b71018eb8d"
   },
   "outputs": [
    {
     "data": {
      "text/html": [
       "<div>\n",
       "<style scoped>\n",
       "    .dataframe tbody tr th:only-of-type {\n",
       "        vertical-align: middle;\n",
       "    }\n",
       "\n",
       "    .dataframe tbody tr th {\n",
       "        vertical-align: top;\n",
       "    }\n",
       "\n",
       "    .dataframe thead th {\n",
       "        text-align: right;\n",
       "    }\n",
       "</style>\n",
       "<table border=\"1\" class=\"dataframe\">\n",
       "  <thead>\n",
       "    <tr style=\"text-align: right;\">\n",
       "      <th></th>\n",
       "      <th>umur_ibu</th>\n",
       "      <th>gravida</th>\n",
       "      <th>umur_kehamilan</th>\n",
       "      <th>tinggi_badan</th>\n",
       "      <th>penyakit_anemia</th>\n",
       "      <th>posisi_janin</th>\n",
       "      <th>hasil_tes_VDRL</th>\n",
       "      <th>hasil_tes_HbsAg</th>\n",
       "      <th>tekanan_sistolik</th>\n",
       "      <th>tekanan_diastolik</th>\n",
       "      <th>kategori_tekanan_darah</th>\n",
       "    </tr>\n",
       "  </thead>\n",
       "  <tbody>\n",
       "    <tr>\n",
       "      <th>0</th>\n",
       "      <td>32</td>\n",
       "      <td>3</td>\n",
       "      <td>23</td>\n",
       "      <td>160.02</td>\n",
       "      <td>Negatif</td>\n",
       "      <td>Normal</td>\n",
       "      <td>Negative</td>\n",
       "      <td>Negative</td>\n",
       "      <td>90</td>\n",
       "      <td>60</td>\n",
       "      <td>Normal</td>\n",
       "    </tr>\n",
       "    <tr>\n",
       "      <th>1</th>\n",
       "      <td>25</td>\n",
       "      <td>2</td>\n",
       "      <td>38</td>\n",
       "      <td>157.48</td>\n",
       "      <td>Negatif</td>\n",
       "      <td>Normal</td>\n",
       "      <td>Positive</td>\n",
       "      <td>Negative</td>\n",
       "      <td>100</td>\n",
       "      <td>70</td>\n",
       "      <td>Normal</td>\n",
       "    </tr>\n",
       "    <tr>\n",
       "      <th>2</th>\n",
       "      <td>32</td>\n",
       "      <td>3</td>\n",
       "      <td>30</td>\n",
       "      <td>152.40</td>\n",
       "      <td>Minimal</td>\n",
       "      <td>Normal</td>\n",
       "      <td>Negative</td>\n",
       "      <td>Negative</td>\n",
       "      <td>100</td>\n",
       "      <td>60</td>\n",
       "      <td>Normal</td>\n",
       "    </tr>\n",
       "    <tr>\n",
       "      <th>3</th>\n",
       "      <td>32</td>\n",
       "      <td>2</td>\n",
       "      <td>25</td>\n",
       "      <td>162.56</td>\n",
       "      <td>Negatif</td>\n",
       "      <td>Normal</td>\n",
       "      <td>Positive</td>\n",
       "      <td>Negative</td>\n",
       "      <td>100</td>\n",
       "      <td>65</td>\n",
       "      <td>Normal</td>\n",
       "    </tr>\n",
       "    <tr>\n",
       "      <th>4</th>\n",
       "      <td>20</td>\n",
       "      <td>1</td>\n",
       "      <td>30</td>\n",
       "      <td>157.48</td>\n",
       "      <td>Negatif</td>\n",
       "      <td>Normal</td>\n",
       "      <td>Negative</td>\n",
       "      <td>Negative</td>\n",
       "      <td>100</td>\n",
       "      <td>55</td>\n",
       "      <td>Hipotensi</td>\n",
       "    </tr>\n",
       "  </tbody>\n",
       "</table>\n",
       "</div>"
      ],
      "text/plain": [
       "   umur_ibu  gravida  umur_kehamilan  tinggi_badan penyakit_anemia  \\\n",
       "0        32        3              23        160.02         Negatif   \n",
       "1        25        2              38        157.48         Negatif   \n",
       "2        32        3              30        152.40         Minimal   \n",
       "3        32        2              25        162.56         Negatif   \n",
       "4        20        1              30        157.48         Negatif   \n",
       "\n",
       "  posisi_janin hasil_tes_VDRL hasil_tes_HbsAg  tekanan_sistolik  \\\n",
       "0       Normal       Negative        Negative                90   \n",
       "1       Normal       Positive        Negative               100   \n",
       "2       Normal       Negative        Negative               100   \n",
       "3       Normal       Positive        Negative               100   \n",
       "4       Normal       Negative        Negative               100   \n",
       "\n",
       "   tekanan_diastolik kategori_tekanan_darah  \n",
       "0                 60                 Normal  \n",
       "1                 70                 Normal  \n",
       "2                 60                 Normal  \n",
       "3                 65                 Normal  \n",
       "4                 55              Hipotensi  "
      ]
     },
     "execution_count": 9,
     "metadata": {},
     "output_type": "execute_result"
    }
   ],
   "source": [
    "# Agar kata none tidak didefinisikan sbg NaN\n",
    "pregnancydf_selected[['penyakit_anemia']] = (pregnancydf_selected[['penyakit_anemia']].fillna(\"Negatif\"))\n",
    "\n",
    "pregnancydf_selected.head()"
   ]
  },
  {
   "cell_type": "code",
   "execution_count": 10,
   "id": "cb31af74",
   "metadata": {
    "colab": {
     "base_uri": "https://localhost:8080/"
    },
    "executionInfo": {
     "elapsed": 26,
     "status": "ok",
     "timestamp": 1746861933718,
     "user": {
      "displayName": "Dyah Megawati",
      "userId": "05129674134829867442"
     },
     "user_tz": -420
    },
    "id": "cb31af74",
    "outputId": "1319c1dc-f6ef-46b1-b86f-8310d5bf721f"
   },
   "outputs": [
    {
     "name": "stdout",
     "output_type": "stream",
     "text": [
      "\n",
      "Missing values per fitur:\n",
      "umur_ibu                  0\n",
      "gravida                   0\n",
      "umur_kehamilan            0\n",
      "tinggi_badan              0\n",
      "penyakit_anemia           0\n",
      "posisi_janin              0\n",
      "hasil_tes_VDRL            0\n",
      "hasil_tes_HbsAg           0\n",
      "tekanan_sistolik          0\n",
      "tekanan_diastolik         0\n",
      "kategori_tekanan_darah    0\n",
      "dtype: int64\n"
     ]
    }
   ],
   "source": [
    "# Cek missing values\n",
    "print(\"\\nMissing values per fitur:\")\n",
    "print(pregnancydf_selected.isnull().sum())"
   ]
  },
  {
   "cell_type": "code",
   "execution_count": 11,
   "id": "cf6bf184",
   "metadata": {
    "colab": {
     "base_uri": "https://localhost:8080/",
     "height": 206
    },
    "executionInfo": {
     "elapsed": 150,
     "status": "ok",
     "timestamp": 1746861936163,
     "user": {
      "displayName": "Dyah Megawati",
      "userId": "05129674134829867442"
     },
     "user_tz": -420
    },
    "id": "cf6bf184",
    "outputId": "4bff1434-2b18-4583-a615-a19ea670496c"
   },
   "outputs": [
    {
     "data": {
      "text/html": [
       "<div>\n",
       "<style scoped>\n",
       "    .dataframe tbody tr th:only-of-type {\n",
       "        vertical-align: middle;\n",
       "    }\n",
       "\n",
       "    .dataframe tbody tr th {\n",
       "        vertical-align: top;\n",
       "    }\n",
       "\n",
       "    .dataframe thead th {\n",
       "        text-align: right;\n",
       "    }\n",
       "</style>\n",
       "<table border=\"1\" class=\"dataframe\">\n",
       "  <thead>\n",
       "    <tr style=\"text-align: right;\">\n",
       "      <th></th>\n",
       "      <th>umur_ibu</th>\n",
       "      <th>gravida</th>\n",
       "      <th>umur_kehamilan</th>\n",
       "      <th>tinggi_badan</th>\n",
       "      <th>penyakit_anemia</th>\n",
       "      <th>posisi_janin</th>\n",
       "      <th>hasil_tes_VDRL</th>\n",
       "      <th>hasil_tes_HbsAg</th>\n",
       "      <th>tekanan_sistolik</th>\n",
       "      <th>tekanan_diastolik</th>\n",
       "      <th>kategori_tekanan_darah</th>\n",
       "    </tr>\n",
       "  </thead>\n",
       "  <tbody>\n",
       "    <tr>\n",
       "      <th>0</th>\n",
       "      <td>32</td>\n",
       "      <td>3</td>\n",
       "      <td>23</td>\n",
       "      <td>160.02</td>\n",
       "      <td>Negatif</td>\n",
       "      <td>Normal</td>\n",
       "      <td>Negatif</td>\n",
       "      <td>Negatif</td>\n",
       "      <td>90</td>\n",
       "      <td>60</td>\n",
       "      <td>Normal</td>\n",
       "    </tr>\n",
       "    <tr>\n",
       "      <th>1</th>\n",
       "      <td>25</td>\n",
       "      <td>2</td>\n",
       "      <td>38</td>\n",
       "      <td>157.48</td>\n",
       "      <td>Negatif</td>\n",
       "      <td>Normal</td>\n",
       "      <td>Positif</td>\n",
       "      <td>Negatif</td>\n",
       "      <td>100</td>\n",
       "      <td>70</td>\n",
       "      <td>Normal</td>\n",
       "    </tr>\n",
       "    <tr>\n",
       "      <th>2</th>\n",
       "      <td>32</td>\n",
       "      <td>3</td>\n",
       "      <td>30</td>\n",
       "      <td>152.40</td>\n",
       "      <td>Minimal</td>\n",
       "      <td>Normal</td>\n",
       "      <td>Negatif</td>\n",
       "      <td>Negatif</td>\n",
       "      <td>100</td>\n",
       "      <td>60</td>\n",
       "      <td>Normal</td>\n",
       "    </tr>\n",
       "    <tr>\n",
       "      <th>3</th>\n",
       "      <td>32</td>\n",
       "      <td>2</td>\n",
       "      <td>25</td>\n",
       "      <td>162.56</td>\n",
       "      <td>Negatif</td>\n",
       "      <td>Normal</td>\n",
       "      <td>Positif</td>\n",
       "      <td>Negatif</td>\n",
       "      <td>100</td>\n",
       "      <td>65</td>\n",
       "      <td>Normal</td>\n",
       "    </tr>\n",
       "    <tr>\n",
       "      <th>4</th>\n",
       "      <td>20</td>\n",
       "      <td>1</td>\n",
       "      <td>30</td>\n",
       "      <td>157.48</td>\n",
       "      <td>Negatif</td>\n",
       "      <td>Normal</td>\n",
       "      <td>Negatif</td>\n",
       "      <td>Negatif</td>\n",
       "      <td>100</td>\n",
       "      <td>55</td>\n",
       "      <td>Hipotensi</td>\n",
       "    </tr>\n",
       "  </tbody>\n",
       "</table>\n",
       "</div>"
      ],
      "text/plain": [
       "   umur_ibu  gravida  umur_kehamilan  tinggi_badan penyakit_anemia  \\\n",
       "0        32        3              23        160.02         Negatif   \n",
       "1        25        2              38        157.48         Negatif   \n",
       "2        32        3              30        152.40         Minimal   \n",
       "3        32        2              25        162.56         Negatif   \n",
       "4        20        1              30        157.48         Negatif   \n",
       "\n",
       "  posisi_janin hasil_tes_VDRL hasil_tes_HbsAg  tekanan_sistolik  \\\n",
       "0       Normal        Negatif         Negatif                90   \n",
       "1       Normal        Positif         Negatif               100   \n",
       "2       Normal        Negatif         Negatif               100   \n",
       "3       Normal        Positif         Negatif               100   \n",
       "4       Normal        Negatif         Negatif               100   \n",
       "\n",
       "   tekanan_diastolik kategori_tekanan_darah  \n",
       "0                 60                 Normal  \n",
       "1                 70                 Normal  \n",
       "2                 60                 Normal  \n",
       "3                 65                 Normal  \n",
       "4                 55              Hipotensi  "
      ]
     },
     "execution_count": 11,
     "metadata": {},
     "output_type": "execute_result"
    }
   ],
   "source": [
    "# Menyamakan semua istilah dalam bahasa indonesia\n",
    "# Ubah nilai pada kolom hasil_tes_VDRL\n",
    "pregnancydf_selected['hasil_tes_VDRL'] = pregnancydf_selected['hasil_tes_VDRL'].replace({\n",
    "    'Negative': 'Negatif',\n",
    "    'Positive': 'Positif'\n",
    "})\n",
    "\n",
    "# Ubah nilai pada kolom hasil_tes_HbsAg\n",
    "pregnancydf_selected['hasil_tes_HbsAg'] = pregnancydf_selected['hasil_tes_HbsAg'].replace({\n",
    "    'Negative': 'Negatif',\n",
    "    'Positive': 'Positif'\n",
    "})\n",
    "\n",
    "pregnancydf_selected.head()"
   ]
  },
  {
   "cell_type": "code",
   "execution_count": 12,
   "id": "604420aa",
   "metadata": {
    "colab": {
     "base_uri": "https://localhost:8080/"
    },
    "executionInfo": {
     "elapsed": 37,
     "status": "ok",
     "timestamp": 1746861937914,
     "user": {
      "displayName": "Dyah Megawati",
      "userId": "05129674134829867442"
     },
     "user_tz": -420
    },
    "id": "604420aa",
    "outputId": "af6abbdd-96ea-45d0-8cb5-6d1a237d4124"
   },
   "outputs": [
    {
     "data": {
      "text/plain": [
       "array(['Negatif', 'Minimal', 'Medium'], dtype=object)"
      ]
     },
     "execution_count": 12,
     "metadata": {},
     "output_type": "execute_result"
    }
   ],
   "source": [
    "pregnancydf_selected['penyakit_anemia'].unique()"
   ]
  },
  {
   "cell_type": "code",
   "execution_count": 13,
   "id": "209d8914",
   "metadata": {
    "colab": {
     "base_uri": "https://localhost:8080/"
    },
    "executionInfo": {
     "elapsed": 18,
     "status": "ok",
     "timestamp": 1746861938913,
     "user": {
      "displayName": "Dyah Megawati",
      "userId": "05129674134829867442"
     },
     "user_tz": -420
    },
    "id": "209d8914",
    "outputId": "f29cfb90-47ec-49ab-8bf1-a4817285487e"
   },
   "outputs": [
    {
     "data": {
      "text/plain": [
       "array(['Negatif', 'Positif'], dtype=object)"
      ]
     },
     "execution_count": 13,
     "metadata": {},
     "output_type": "execute_result"
    }
   ],
   "source": [
    "# Value minimal & medium diubah mjd positif\n",
    "pregnancydf_selected['penyakit_anemia'] = pregnancydf_selected['penyakit_anemia'].replace({'Minimal': 'Positif', 'Medium': 'Positif'})\n",
    "pregnancydf_selected['penyakit_anemia'].unique()"
   ]
  },
  {
   "cell_type": "code",
   "execution_count": 14,
   "id": "fff0270e",
   "metadata": {
    "colab": {
     "base_uri": "https://localhost:8080/",
     "height": 300
    },
    "executionInfo": {
     "elapsed": 123,
     "status": "ok",
     "timestamp": 1746861940335,
     "user": {
      "displayName": "Dyah Megawati",
      "userId": "05129674134829867442"
     },
     "user_tz": -420
    },
    "id": "fff0270e",
    "outputId": "8bf51f0d-55bc-440d-fead-7204f0e33adb"
   },
   "outputs": [
    {
     "data": {
      "text/html": [
       "<div>\n",
       "<style scoped>\n",
       "    .dataframe tbody tr th:only-of-type {\n",
       "        vertical-align: middle;\n",
       "    }\n",
       "\n",
       "    .dataframe tbody tr th {\n",
       "        vertical-align: top;\n",
       "    }\n",
       "\n",
       "    .dataframe thead th {\n",
       "        text-align: right;\n",
       "    }\n",
       "</style>\n",
       "<table border=\"1\" class=\"dataframe\">\n",
       "  <thead>\n",
       "    <tr style=\"text-align: right;\">\n",
       "      <th></th>\n",
       "      <th>umur_ibu</th>\n",
       "      <th>gravida</th>\n",
       "      <th>umur_kehamilan</th>\n",
       "      <th>tinggi_badan</th>\n",
       "      <th>tekanan_sistolik</th>\n",
       "      <th>tekanan_diastolik</th>\n",
       "    </tr>\n",
       "  </thead>\n",
       "  <tbody>\n",
       "    <tr>\n",
       "      <th>count</th>\n",
       "      <td>998.000000</td>\n",
       "      <td>998.000000</td>\n",
       "      <td>998.000000</td>\n",
       "      <td>998.000000</td>\n",
       "      <td>998.000000</td>\n",
       "      <td>998.000000</td>\n",
       "    </tr>\n",
       "    <tr>\n",
       "      <th>mean</th>\n",
       "      <td>22.952906</td>\n",
       "      <td>1.181363</td>\n",
       "      <td>28.938878</td>\n",
       "      <td>158.655832</td>\n",
       "      <td>102.920842</td>\n",
       "      <td>64.624248</td>\n",
       "    </tr>\n",
       "    <tr>\n",
       "      <th>std</th>\n",
       "      <td>3.582638</td>\n",
       "      <td>0.434442</td>\n",
       "      <td>4.969241</td>\n",
       "      <td>4.342506</td>\n",
       "      <td>9.543794</td>\n",
       "      <td>8.017289</td>\n",
       "    </tr>\n",
       "    <tr>\n",
       "      <th>min</th>\n",
       "      <td>17.000000</td>\n",
       "      <td>1.000000</td>\n",
       "      <td>20.000000</td>\n",
       "      <td>142.240000</td>\n",
       "      <td>80.000000</td>\n",
       "      <td>55.000000</td>\n",
       "    </tr>\n",
       "    <tr>\n",
       "      <th>25%</th>\n",
       "      <td>20.000000</td>\n",
       "      <td>1.000000</td>\n",
       "      <td>25.000000</td>\n",
       "      <td>154.940000</td>\n",
       "      <td>100.000000</td>\n",
       "      <td>60.000000</td>\n",
       "    </tr>\n",
       "    <tr>\n",
       "      <th>50%</th>\n",
       "      <td>22.000000</td>\n",
       "      <td>1.000000</td>\n",
       "      <td>30.000000</td>\n",
       "      <td>157.480000</td>\n",
       "      <td>100.000000</td>\n",
       "      <td>60.000000</td>\n",
       "    </tr>\n",
       "    <tr>\n",
       "      <th>75%</th>\n",
       "      <td>25.000000</td>\n",
       "      <td>1.000000</td>\n",
       "      <td>32.000000</td>\n",
       "      <td>162.560000</td>\n",
       "      <td>110.000000</td>\n",
       "      <td>70.000000</td>\n",
       "    </tr>\n",
       "    <tr>\n",
       "      <th>max</th>\n",
       "      <td>32.000000</td>\n",
       "      <td>4.000000</td>\n",
       "      <td>38.000000</td>\n",
       "      <td>167.640000</td>\n",
       "      <td>150.000000</td>\n",
       "      <td>100.000000</td>\n",
       "    </tr>\n",
       "  </tbody>\n",
       "</table>\n",
       "</div>"
      ],
      "text/plain": [
       "         umur_ibu     gravida  umur_kehamilan  tinggi_badan  tekanan_sistolik  \\\n",
       "count  998.000000  998.000000      998.000000    998.000000        998.000000   \n",
       "mean    22.952906    1.181363       28.938878    158.655832        102.920842   \n",
       "std      3.582638    0.434442        4.969241      4.342506          9.543794   \n",
       "min     17.000000    1.000000       20.000000    142.240000         80.000000   \n",
       "25%     20.000000    1.000000       25.000000    154.940000        100.000000   \n",
       "50%     22.000000    1.000000       30.000000    157.480000        100.000000   \n",
       "75%     25.000000    1.000000       32.000000    162.560000        110.000000   \n",
       "max     32.000000    4.000000       38.000000    167.640000        150.000000   \n",
       "\n",
       "       tekanan_diastolik  \n",
       "count         998.000000  \n",
       "mean           64.624248  \n",
       "std             8.017289  \n",
       "min            55.000000  \n",
       "25%            60.000000  \n",
       "50%            60.000000  \n",
       "75%            70.000000  \n",
       "max           100.000000  "
      ]
     },
     "execution_count": 14,
     "metadata": {},
     "output_type": "execute_result"
    }
   ],
   "source": [
    "pregnancydf_selected.describe()"
   ]
  },
  {
   "cell_type": "code",
   "execution_count": 15,
   "id": "39dab1df",
   "metadata": {
    "colab": {
     "base_uri": "https://localhost:8080/"
    },
    "executionInfo": {
     "elapsed": 19,
     "status": "ok",
     "timestamp": 1746861942224,
     "user": {
      "displayName": "Dyah Megawati",
      "userId": "05129674134829867442"
     },
     "user_tz": -420
    },
    "id": "39dab1df",
    "outputId": "485eb2d9-6f55-45b8-a92a-4a6df92ee8dc"
   },
   "outputs": [
    {
     "data": {
      "text/plain": [
       "42"
      ]
     },
     "execution_count": 15,
     "metadata": {},
     "output_type": "execute_result"
    }
   ],
   "source": [
    "# Cek duplikasi data\n",
    "pregnancydf_selected.duplicated()\n",
    "pregnancydf_selected.duplicated().sum()"
   ]
  },
  {
   "cell_type": "code",
   "execution_count": 16,
   "id": "c1b65645",
   "metadata": {
    "executionInfo": {
     "elapsed": 27,
     "status": "ok",
     "timestamp": 1746861944521,
     "user": {
      "displayName": "Dyah Megawati",
      "userId": "05129674134829867442"
     },
     "user_tz": -420
    },
    "id": "c1b65645"
   },
   "outputs": [],
   "source": [
    "pregnancydf_selected.drop_duplicates(inplace=True)"
   ]
  },
  {
   "cell_type": "code",
   "execution_count": 17,
   "id": "7f229a21",
   "metadata": {
    "colab": {
     "base_uri": "https://localhost:8080/"
    },
    "executionInfo": {
     "elapsed": 31,
     "status": "ok",
     "timestamp": 1746861945943,
     "user": {
      "displayName": "Dyah Megawati",
      "userId": "05129674134829867442"
     },
     "user_tz": -420
    },
    "id": "7f229a21",
    "outputId": "b8409900-8de7-4b9c-fa2e-32c805f9c767"
   },
   "outputs": [
    {
     "data": {
      "text/plain": [
       "0"
      ]
     },
     "execution_count": 17,
     "metadata": {},
     "output_type": "execute_result"
    }
   ],
   "source": [
    "pregnancydf_selected.duplicated().sum()"
   ]
  },
  {
   "cell_type": "markdown",
   "id": "40e4c7ad",
   "metadata": {
    "id": "40e4c7ad"
   },
   "source": [
    "##### Deteksi Outlier"
   ]
  },
  {
   "cell_type": "code",
   "execution_count": 18,
   "id": "a4307e52",
   "metadata": {
    "colab": {
     "base_uri": "https://localhost:8080/",
     "height": 206
    },
    "executionInfo": {
     "elapsed": 81,
     "status": "ok",
     "timestamp": 1746861948006,
     "user": {
      "displayName": "Dyah Megawati",
      "userId": "05129674134829867442"
     },
     "user_tz": -420
    },
    "id": "a4307e52",
    "outputId": "941be7c9-65d2-4630-ece0-ceff462aee63"
   },
   "outputs": [
    {
     "data": {
      "text/html": [
       "<div>\n",
       "<style scoped>\n",
       "    .dataframe tbody tr th:only-of-type {\n",
       "        vertical-align: middle;\n",
       "    }\n",
       "\n",
       "    .dataframe tbody tr th {\n",
       "        vertical-align: top;\n",
       "    }\n",
       "\n",
       "    .dataframe thead th {\n",
       "        text-align: right;\n",
       "    }\n",
       "</style>\n",
       "<table border=\"1\" class=\"dataframe\">\n",
       "  <thead>\n",
       "    <tr style=\"text-align: right;\">\n",
       "      <th></th>\n",
       "      <th>umur_ibu</th>\n",
       "      <th>gravida</th>\n",
       "      <th>umur_kehamilan</th>\n",
       "      <th>tinggi_badan</th>\n",
       "      <th>tekanan_sistolik</th>\n",
       "      <th>tekanan_diastolik</th>\n",
       "    </tr>\n",
       "  </thead>\n",
       "  <tbody>\n",
       "    <tr>\n",
       "      <th>0</th>\n",
       "      <td>32</td>\n",
       "      <td>3</td>\n",
       "      <td>23</td>\n",
       "      <td>160.02</td>\n",
       "      <td>90</td>\n",
       "      <td>60</td>\n",
       "    </tr>\n",
       "    <tr>\n",
       "      <th>1</th>\n",
       "      <td>25</td>\n",
       "      <td>2</td>\n",
       "      <td>38</td>\n",
       "      <td>157.48</td>\n",
       "      <td>100</td>\n",
       "      <td>70</td>\n",
       "    </tr>\n",
       "    <tr>\n",
       "      <th>2</th>\n",
       "      <td>32</td>\n",
       "      <td>3</td>\n",
       "      <td>30</td>\n",
       "      <td>152.40</td>\n",
       "      <td>100</td>\n",
       "      <td>60</td>\n",
       "    </tr>\n",
       "    <tr>\n",
       "      <th>3</th>\n",
       "      <td>32</td>\n",
       "      <td>2</td>\n",
       "      <td>25</td>\n",
       "      <td>162.56</td>\n",
       "      <td>100</td>\n",
       "      <td>65</td>\n",
       "    </tr>\n",
       "    <tr>\n",
       "      <th>4</th>\n",
       "      <td>20</td>\n",
       "      <td>1</td>\n",
       "      <td>30</td>\n",
       "      <td>157.48</td>\n",
       "      <td>100</td>\n",
       "      <td>55</td>\n",
       "    </tr>\n",
       "  </tbody>\n",
       "</table>\n",
       "</div>"
      ],
      "text/plain": [
       "   umur_ibu  gravida  umur_kehamilan  tinggi_badan  tekanan_sistolik  \\\n",
       "0        32        3              23        160.02                90   \n",
       "1        25        2              38        157.48               100   \n",
       "2        32        3              30        152.40               100   \n",
       "3        32        2              25        162.56               100   \n",
       "4        20        1              30        157.48               100   \n",
       "\n",
       "   tekanan_diastolik  \n",
       "0                 60  \n",
       "1                 70  \n",
       "2                 60  \n",
       "3                 65  \n",
       "4                 55  "
      ]
     },
     "execution_count": 18,
     "metadata": {},
     "output_type": "execute_result"
    }
   ],
   "source": [
    "df_to_plot = pregnancydf_selected.select_dtypes(include=['float', 'int'])\n",
    "df_to_plot.head()"
   ]
  },
  {
   "cell_type": "code",
   "execution_count": 19,
   "id": "92defc31",
   "metadata": {
    "colab": {
     "base_uri": "https://localhost:8080/",
     "height": 831
    },
    "executionInfo": {
     "elapsed": 1255,
     "status": "ok",
     "timestamp": 1746861951194,
     "user": {
      "displayName": "Dyah Megawati",
      "userId": "05129674134829867442"
     },
     "user_tz": -420
    },
    "id": "92defc31",
    "outputId": "f81f1cca-7b1f-4d82-e969-b0b2ec21a8ed"
   },
   "outputs": [
    {
     "data": {
      "text/plain": [
       "umur_ibu                Axes(0.125,0.712609;0.168478x0.167391)\n",
       "gravida              Axes(0.327174,0.712609;0.168478x0.167391)\n",
       "umur_kehamilan       Axes(0.529348,0.712609;0.168478x0.167391)\n",
       "tinggi_badan         Axes(0.731522,0.712609;0.168478x0.167391)\n",
       "tekanan_sistolik        Axes(0.125,0.511739;0.168478x0.167391)\n",
       "tekanan_diastolik    Axes(0.327174,0.511739;0.168478x0.167391)\n",
       "dtype: object"
      ]
     },
     "execution_count": 19,
     "metadata": {},
     "output_type": "execute_result"
    },
    {
     "data": {
      "image/png": "[encoded data removed]",
      "text/plain": [
       "<Figure size 1200x1400 with 16 Axes>"
      ]
     },
     "metadata": {},
     "output_type": "display_data"
    }
   ],
   "source": [
    "# Membuat plot untuk data yang outlier\n",
    "df_to_plot.plot(subplots=True, layout=(4,4),kind=\"box\", figsize=(12,14))"
   ]
  },
  {
   "cell_type": "code",
   "execution_count": 20,
   "id": "4a1cb813",
   "metadata": {
    "colab": {
     "base_uri": "https://localhost:8080/"
    },
    "executionInfo": {
     "elapsed": 39,
     "status": "ok",
     "timestamp": 1746861953720,
     "user": {
      "displayName": "Dyah Megawati",
      "userId": "05129674134829867442"
     },
     "user_tz": -420
    },
    "id": "4a1cb813",
    "outputId": "5d3f6580-c4b9-46e2-dc3a-9eb0c2039e62"
   },
   "outputs": [
    {
     "name": "stdout",
     "output_type": "stream",
     "text": [
      "Jumlah outlier per kolom:\n",
      "umur_ibu: 0\n",
      "gravida: 165\n",
      "umur_kehamilan: 0\n",
      "tinggi_badan: 7\n",
      "tekanan_sistolik: 42\n",
      "tekanan_diastolik: 2\n"
     ]
    }
   ],
   "source": [
    "# Pilih hanya kolom numerik\n",
    "numerik_cols = pregnancydf_selected.select_dtypes(include='number').columns\n",
    "\n",
    "outlier_summary = {}\n",
    "\n",
    "for col in numerik_cols:\n",
    "    Q1 = pregnancydf_selected[col].quantile(0.25)\n",
    "    Q3 = pregnancydf_selected[col].quantile(0.75)\n",
    "    IQR = Q3 - Q1\n",
    "    batas_bawah = Q1 - 1.5 * IQR\n",
    "    batas_atas = Q3 + 1.5 * IQR\n",
    "\n",
    "    outlier_count = ((pregnancydf_selected[col] < batas_bawah) | (pregnancydf_selected[col] > batas_atas)).sum()\n",
    "\n",
    "    outlier_summary[col] = outlier_count\n",
    "\n",
    "# Tampilkan jumlah outlier per kolom\n",
    "print(\"Jumlah outlier per kolom:\")\n",
    "for col, count in outlier_summary.items():\n",
    "    print(f\"{col}: {count}\")\n"
   ]
  },
  {
   "cell_type": "markdown",
   "id": "e90da668",
   "metadata": {
    "id": "e90da668"
   },
   "source": [
    "data yang termasuk outlier masihd alam batas wajar"
   ]
  },
  {
   "cell_type": "markdown",
   "id": "04d85340",
   "metadata": {
    "id": "04d85340"
   },
   "source": [
    "#### Cek value fitur kategorikal"
   ]
  },
  {
   "cell_type": "code",
   "execution_count": 21,
   "id": "01d13c99",
   "metadata": {
    "colab": {
     "base_uri": "https://localhost:8080/"
    },
    "executionInfo": {
     "elapsed": 14,
     "status": "ok",
     "timestamp": 1746861956729,
     "user": {
      "displayName": "Dyah Megawati",
      "userId": "05129674134829867442"
     },
     "user_tz": -420
    },
    "id": "01d13c99",
    "outputId": "1525a612-9be9-4645-d5f7-605af6377cee"
   },
   "outputs": [
    {
     "data": {
      "text/plain": [
       "array(['Negatif', 'Positif'], dtype=object)"
      ]
     },
     "execution_count": 21,
     "metadata": {},
     "output_type": "execute_result"
    }
   ],
   "source": [
    "pregnancydf_selected['penyakit_anemia'].unique()"
   ]
  },
  {
   "cell_type": "code",
   "execution_count": 22,
   "id": "6d82177d",
   "metadata": {
    "colab": {
     "base_uri": "https://localhost:8080/"
    },
    "executionInfo": {
     "elapsed": 21,
     "status": "ok",
     "timestamp": 1746861958048,
     "user": {
      "displayName": "Dyah Megawati",
      "userId": "05129674134829867442"
     },
     "user_tz": -420
    },
    "id": "6d82177d",
    "outputId": "930e827f-d401-4e48-adfc-6821029c6ffd"
   },
   "outputs": [
    {
     "data": {
      "text/plain": [
       "array(['Normal', 'Abnormal'], dtype=object)"
      ]
     },
     "execution_count": 22,
     "metadata": {},
     "output_type": "execute_result"
    }
   ],
   "source": [
    "pregnancydf_selected['posisi_janin'].unique()"
   ]
  },
  {
   "cell_type": "code",
   "execution_count": 23,
   "id": "6de3dced",
   "metadata": {
    "colab": {
     "base_uri": "https://localhost:8080/"
    },
    "executionInfo": {
     "elapsed": 54,
     "status": "ok",
     "timestamp": 1746861958878,
     "user": {
      "displayName": "Dyah Megawati",
      "userId": "05129674134829867442"
     },
     "user_tz": -420
    },
    "id": "6de3dced",
    "outputId": "f685e87e-182a-46e2-f052-e51c11ab31cd"
   },
   "outputs": [
    {
     "data": {
      "text/plain": [
       "array(['Negatif', 'Positif'], dtype=object)"
      ]
     },
     "execution_count": 23,
     "metadata": {},
     "output_type": "execute_result"
    }
   ],
   "source": [
    "pregnancydf_selected['hasil_tes_VDRL'].unique()"
   ]
  },
  {
   "cell_type": "code",
   "execution_count": 24,
   "id": "f7c41332",
   "metadata": {
    "colab": {
     "base_uri": "https://localhost:8080/"
    },
    "executionInfo": {
     "elapsed": 9,
     "status": "ok",
     "timestamp": 1746861959829,
     "user": {
      "displayName": "Dyah Megawati",
      "userId": "05129674134829867442"
     },
     "user_tz": -420
    },
    "id": "f7c41332",
    "outputId": "4f3ce7fd-cb55-4a6d-cf35-11e56cff644e"
   },
   "outputs": [
    {
     "data": {
      "text/plain": [
       "array(['Negatif', 'Positif'], dtype=object)"
      ]
     },
     "execution_count": 24,
     "metadata": {},
     "output_type": "execute_result"
    }
   ],
   "source": [
    "pregnancydf_selected['hasil_tes_HbsAg'].unique()"
   ]
  },
  {
   "cell_type": "code",
   "execution_count": 25,
   "id": "243de602",
   "metadata": {
    "colab": {
     "base_uri": "https://localhost:8080/"
    },
    "executionInfo": {
     "elapsed": 22,
     "status": "ok",
     "timestamp": 1746861960613,
     "user": {
      "displayName": "Dyah Megawati",
      "userId": "05129674134829867442"
     },
     "user_tz": -420
    },
    "id": "243de602",
    "outputId": "c78a1a5f-f850-49ad-8c62-5e53b1411a7c"
   },
   "outputs": [
    {
     "data": {
      "text/plain": [
       "array(['Normal', 'Hipotensi', 'Hipertensi Stage 1', 'Prehipertensi'],\n",
       "      dtype=object)"
      ]
     },
     "execution_count": 25,
     "metadata": {},
     "output_type": "execute_result"
    }
   ],
   "source": [
    "pregnancydf_selected['kategori_tekanan_darah'].unique()"
   ]
  },
  {
   "cell_type": "code",
   "execution_count": 26,
   "id": "ffb460e9",
   "metadata": {
    "colab": {
     "base_uri": "https://localhost:8080/"
    },
    "executionInfo": {
     "elapsed": 52,
     "status": "ok",
     "timestamp": 1746861962223,
     "user": {
      "displayName": "Dyah Megawati",
      "userId": "05129674134829867442"
     },
     "user_tz": -420
    },
    "id": "ffb460e9",
    "outputId": "e9878db6-ecd3-4061-9b59-c89155df2ca8"
   },
   "outputs": [
    {
     "name": "stdout",
     "output_type": "stream",
     "text": [
      "<class 'pandas.core.frame.DataFrame'>\n",
      "Index: 956 entries, 0 to 997\n",
      "Data columns (total 11 columns):\n",
      " #   Column                  Non-Null Count  Dtype  \n",
      "---  ------                  --------------  -----  \n",
      " 0   umur_ibu                956 non-null    int64  \n",
      " 1   gravida                 956 non-null    int32  \n",
      " 2   umur_kehamilan          956 non-null    int32  \n",
      " 3   tinggi_badan            956 non-null    float64\n",
      " 4   penyakit_anemia         956 non-null    object \n",
      " 5   posisi_janin            956 non-null    object \n",
      " 6   hasil_tes_VDRL          956 non-null    object \n",
      " 7   hasil_tes_HbsAg         956 non-null    object \n",
      " 8   tekanan_sistolik        956 non-null    int32  \n",
      " 9   tekanan_diastolik       956 non-null    int32  \n",
      " 10  kategori_tekanan_darah  956 non-null    object \n",
      "dtypes: float64(1), int32(4), int64(1), object(5)\n",
      "memory usage: 74.7+ KB\n",
      "umur_ibu int64\n",
      "17 32\n",
      "\n",
      "gravida int32\n",
      "[3 2 1]\n",
      "\n",
      "umur_kehamilan int32\n",
      "[23 38 30]\n",
      "\n",
      "tinggi_badan float64\n",
      "142.24 167.64\n",
      "\n",
      "penyakit_anemia object\n",
      "['Negatif' 'Positif']\n",
      "\n",
      "posisi_janin object\n",
      "['Normal' 'Abnormal']\n",
      "\n",
      "hasil_tes_VDRL object\n",
      "['Negatif' 'Positif']\n",
      "\n",
      "hasil_tes_HbsAg object\n",
      "['Negatif' 'Positif']\n",
      "\n",
      "tekanan_sistolik int32\n",
      "[ 90 100 110]\n",
      "\n",
      "tekanan_diastolik int32\n",
      "[60 70 65]\n",
      "\n",
      "kategori_tekanan_darah object\n",
      "['Normal' 'Hipotensi' 'Hipertensi Stage 1']\n",
      "\n"
     ]
    }
   ],
   "source": [
    "pregnancydf_selected.info()\n",
    "\n",
    "for dtype, col in (list(zip(pregnancydf_selected.dtypes, pregnancydf_selected.columns))):\n",
    "    if dtype == 'int64' or dtype == 'float64':\n",
    "        print(col, dtype)\n",
    "        print(pregnancydf_selected[col].min(), pregnancydf_selected[col].max())\n",
    "    else:\n",
    "        print(col, dtype)\n",
    "        print(pregnancydf_selected[col].unique()[:3])\n",
    "\n",
    "    print()"
   ]
  },
  {
   "cell_type": "markdown",
   "id": "0d95c6f9",
   "metadata": {
    "id": "0d95c6f9"
   },
   "source": [
    "#### EDA"
   ]
  },
  {
   "cell_type": "code",
   "execution_count": 27,
   "id": "407690bd",
   "metadata": {
    "colab": {
     "base_uri": "https://localhost:8080/",
     "height": 799
    },
    "executionInfo": {
     "elapsed": 1603,
     "status": "ok",
     "timestamp": 1746861967073,
     "user": {
      "displayName": "Dyah Megawati",
      "userId": "05129674134829867442"
     },
     "user_tz": -420
    },
    "id": "407690bd",
    "outputId": "f4f62e07-54f1-410c-d1b8-ae7ed99b95fa"
   },
   "outputs": [
    {
     "data": {
      "image/png": "[encoded data removed]",
      "text/plain": [
       "<Figure size 1800x1000 with 5 Axes>"
      ]
     },
     "metadata": {},
     "output_type": "display_data"
    }
   ],
   "source": [
    "# Set ukuran plot dan grid\n",
    "fig, axes = plt.subplots(nrows=2, ncols=3, figsize=(18, 10))\n",
    "axes = axes.flatten()  # Ubah ke array 1D agar mudah diakses\n",
    "\n",
    "# Daftar kolom dan judul\n",
    "cols_titles = [\n",
    "    ('penyakit_anemia', 'Penyakit Anemia'),\n",
    "    ('posisi_janin', 'Posisi Janin'),\n",
    "    ('hasil_tes_VDRL', 'Hasil Tes VDRL'),\n",
    "    ('hasil_tes_HbsAg', 'Hasil Tes HbsAg'),\n",
    "    ('kategori_tekanan_darah', 'Kategori Tekanan Darah')\n",
    "]\n",
    "\n",
    "# Loop untuk membuat masing-masing subplot\n",
    "for i, (col, title) in enumerate(cols_titles):\n",
    "    data = pregnancydf_selected[col].value_counts().reset_index()\n",
    "    data.columns = ['Values', 'Count']\n",
    "    ax = sns.barplot(data=data, x='Values', y='Count', color='dodgerblue', ax=axes[i])\n",
    "    ax.bar_label(ax.containers[0], fmt='%i', padding=-25, color='white', fontweight='bold')\n",
    "    ax.set_title(title, fontweight='bold')\n",
    "\n",
    "# Hapus subplot kosong (jika ada)\n",
    "if len(cols_titles) < len(axes):\n",
    "    for j in range(len(cols_titles), len(axes)):\n",
    "        fig.delaxes(axes[j])\n",
    "\n",
    "# Atur layout rapi\n",
    "plt.tight_layout()\n",
    "plt.show()\n"
   ]
  },
  {
   "cell_type": "code",
   "execution_count": 28,
   "id": "380e80d6",
   "metadata": {
    "colab": {
     "base_uri": "https://localhost:8080/",
     "height": 206
    },
    "executionInfo": {
     "elapsed": 32,
     "status": "ok",
     "timestamp": 1746861971319,
     "user": {
      "displayName": "Dyah Megawati",
      "userId": "05129674134829867442"
     },
     "user_tz": -420
    },
    "id": "380e80d6",
    "outputId": "f9b10434-f35c-484d-ebba-a8a8b752253d"
   },
   "outputs": [
    {
     "data": {
      "text/html": [
       "<div>\n",
       "<style scoped>\n",
       "    .dataframe tbody tr th:only-of-type {\n",
       "        vertical-align: middle;\n",
       "    }\n",
       "\n",
       "    .dataframe tbody tr th {\n",
       "        vertical-align: top;\n",
       "    }\n",
       "\n",
       "    .dataframe thead th {\n",
       "        text-align: right;\n",
       "    }\n",
       "</style>\n",
       "<table border=\"1\" class=\"dataframe\">\n",
       "  <thead>\n",
       "    <tr style=\"text-align: right;\">\n",
       "      <th></th>\n",
       "      <th>umur_ibu</th>\n",
       "      <th>gravida</th>\n",
       "      <th>umur_kehamilan</th>\n",
       "      <th>tinggi_badan</th>\n",
       "      <th>tekanan_sistolik</th>\n",
       "      <th>tekanan_diastolik</th>\n",
       "    </tr>\n",
       "  </thead>\n",
       "  <tbody>\n",
       "    <tr>\n",
       "      <th>0</th>\n",
       "      <td>32</td>\n",
       "      <td>3</td>\n",
       "      <td>23</td>\n",
       "      <td>160.02</td>\n",
       "      <td>90</td>\n",
       "      <td>60</td>\n",
       "    </tr>\n",
       "    <tr>\n",
       "      <th>1</th>\n",
       "      <td>25</td>\n",
       "      <td>2</td>\n",
       "      <td>38</td>\n",
       "      <td>157.48</td>\n",
       "      <td>100</td>\n",
       "      <td>70</td>\n",
       "    </tr>\n",
       "    <tr>\n",
       "      <th>2</th>\n",
       "      <td>32</td>\n",
       "      <td>3</td>\n",
       "      <td>30</td>\n",
       "      <td>152.40</td>\n",
       "      <td>100</td>\n",
       "      <td>60</td>\n",
       "    </tr>\n",
       "    <tr>\n",
       "      <th>3</th>\n",
       "      <td>32</td>\n",
       "      <td>2</td>\n",
       "      <td>25</td>\n",
       "      <td>162.56</td>\n",
       "      <td>100</td>\n",
       "      <td>65</td>\n",
       "    </tr>\n",
       "    <tr>\n",
       "      <th>4</th>\n",
       "      <td>20</td>\n",
       "      <td>1</td>\n",
       "      <td>30</td>\n",
       "      <td>157.48</td>\n",
       "      <td>100</td>\n",
       "      <td>55</td>\n",
       "    </tr>\n",
       "  </tbody>\n",
       "</table>\n",
       "</div>"
      ],
      "text/plain": [
       "   umur_ibu  gravida  umur_kehamilan  tinggi_badan  tekanan_sistolik  \\\n",
       "0        32        3              23        160.02                90   \n",
       "1        25        2              38        157.48               100   \n",
       "2        32        3              30        152.40               100   \n",
       "3        32        2              25        162.56               100   \n",
       "4        20        1              30        157.48               100   \n",
       "\n",
       "   tekanan_diastolik  \n",
       "0                 60  \n",
       "1                 70  \n",
       "2                 60  \n",
       "3                 65  \n",
       "4                 55  "
      ]
     },
     "execution_count": 28,
     "metadata": {},
     "output_type": "execute_result"
    }
   ],
   "source": [
    "numeric = pregnancydf_selected[['umur_ibu', 'gravida', 'umur_kehamilan',\n",
    "                                'tinggi_badan', 'tekanan_sistolik', 'tekanan_diastolik']].copy()\n",
    "\n",
    "categorical = pregnancydf_selected[['penyakit_anemia', 'posisi_janin', 'hasil_tes_VDRL',\n",
    "                                    'hasil_tes_HbsAg', 'kategori_tekanan_darah']].copy()\n",
    "\n",
    "numeric.head()"
   ]
  },
  {
   "cell_type": "code",
   "execution_count": 29,
   "id": "e9fe30eb",
   "metadata": {
    "colab": {
     "base_uri": "https://localhost:8080/",
     "height": 641
    },
    "executionInfo": {
     "elapsed": 1894,
     "status": "ok",
     "timestamp": 1746861994341,
     "user": {
      "displayName": "Dyah Megawati",
      "userId": "05129674134829867442"
     },
     "user_tz": -420
    },
    "id": "e9fe30eb",
    "outputId": "1a577274-15f2-4cbb-bc90-c0b677b6903b"
   },
   "outputs": [
    {
     "data": {
      "image/png": "[encoded data removed]",
      "text/plain": [
       "<Figure size 1800x800 with 6 Axes>"
      ]
     },
     "metadata": {},
     "output_type": "display_data"
    }
   ],
   "source": [
    "# Hitung jumlah kolom numerik\n",
    "num_cols = numeric.columns.tolist()\n",
    "n_cols = 3  # Jumlah kolom dalam grid\n",
    "n_rows = math.ceil(len(num_cols) / n_cols)  # Hitung jumlah baris otomatis\n",
    "\n",
    "# Buat subplot\n",
    "fig, axes = plt.subplots(nrows=n_rows, ncols=n_cols, figsize=(6 * n_cols, 4 * n_rows))\n",
    "axes = axes.flatten()  # Ubah ke array 1D\n",
    "\n",
    "# Loop untuk membuat histogram tiap kolom numerik\n",
    "for i, col in enumerate(num_cols):\n",
    "    sns.histplot(numeric[col], bins=20, kde=True, color='skyblue', edgecolor='black', ax=axes[i])\n",
    "    axes[i].set_title(f'Distribusi {col}', fontweight='bold')\n",
    "    axes[i].set_xlabel(col)\n",
    "    axes[i].set_ylabel('Frekuensi')\n",
    "    axes[i].grid(False)\n",
    "\n",
    "# Hapus subplot kosong\n",
    "if len(num_cols) < len(axes):\n",
    "    for j in range(len(num_cols), len(axes)):\n",
    "        fig.delaxes(axes[j])\n",
    "\n",
    "# Atur layout rapi\n",
    "plt.tight_layout()\n",
    "plt.show()\n"
   ]
  },
  {
   "cell_type": "code",
   "execution_count": 30,
   "id": "77c6a4ce",
   "metadata": {
    "colab": {
     "base_uri": "https://localhost:8080/",
     "height": 300
    },
    "executionInfo": {
     "elapsed": 38,
     "status": "ok",
     "timestamp": 1746861997647,
     "user": {
      "displayName": "Dyah Megawati",
      "userId": "05129674134829867442"
     },
     "user_tz": -420
    },
    "id": "77c6a4ce",
    "outputId": "c1f05a82-463e-4bc5-c8bc-5cee2a4cb2a9"
   },
   "outputs": [
    {
     "data": {
      "text/html": [
       "<div>\n",
       "<style scoped>\n",
       "    .dataframe tbody tr th:only-of-type {\n",
       "        vertical-align: middle;\n",
       "    }\n",
       "\n",
       "    .dataframe tbody tr th {\n",
       "        vertical-align: top;\n",
       "    }\n",
       "\n",
       "    .dataframe thead th {\n",
       "        text-align: right;\n",
       "    }\n",
       "</style>\n",
       "<table border=\"1\" class=\"dataframe\">\n",
       "  <thead>\n",
       "    <tr style=\"text-align: right;\">\n",
       "      <th></th>\n",
       "      <th>umur_ibu</th>\n",
       "      <th>gravida</th>\n",
       "      <th>umur_kehamilan</th>\n",
       "      <th>tinggi_badan</th>\n",
       "      <th>tekanan_sistolik</th>\n",
       "      <th>tekanan_diastolik</th>\n",
       "    </tr>\n",
       "  </thead>\n",
       "  <tbody>\n",
       "    <tr>\n",
       "      <th>count</th>\n",
       "      <td>956.000000</td>\n",
       "      <td>956.000000</td>\n",
       "      <td>956.000000</td>\n",
       "      <td>956.000000</td>\n",
       "      <td>956.000000</td>\n",
       "      <td>956.000000</td>\n",
       "    </tr>\n",
       "    <tr>\n",
       "      <th>mean</th>\n",
       "      <td>22.995816</td>\n",
       "      <td>1.188285</td>\n",
       "      <td>28.883891</td>\n",
       "      <td>158.643724</td>\n",
       "      <td>102.913180</td>\n",
       "      <td>64.623431</td>\n",
       "    </tr>\n",
       "    <tr>\n",
       "      <th>std</th>\n",
       "      <td>3.617292</td>\n",
       "      <td>0.441450</td>\n",
       "      <td>5.018511</td>\n",
       "      <td>4.382737</td>\n",
       "      <td>9.681406</td>\n",
       "      <td>8.055075</td>\n",
       "    </tr>\n",
       "    <tr>\n",
       "      <th>min</th>\n",
       "      <td>17.000000</td>\n",
       "      <td>1.000000</td>\n",
       "      <td>20.000000</td>\n",
       "      <td>142.240000</td>\n",
       "      <td>80.000000</td>\n",
       "      <td>55.000000</td>\n",
       "    </tr>\n",
       "    <tr>\n",
       "      <th>25%</th>\n",
       "      <td>20.000000</td>\n",
       "      <td>1.000000</td>\n",
       "      <td>25.000000</td>\n",
       "      <td>154.940000</td>\n",
       "      <td>100.000000</td>\n",
       "      <td>60.000000</td>\n",
       "    </tr>\n",
       "    <tr>\n",
       "      <th>50%</th>\n",
       "      <td>22.000000</td>\n",
       "      <td>1.000000</td>\n",
       "      <td>30.000000</td>\n",
       "      <td>157.480000</td>\n",
       "      <td>100.000000</td>\n",
       "      <td>60.000000</td>\n",
       "    </tr>\n",
       "    <tr>\n",
       "      <th>75%</th>\n",
       "      <td>25.000000</td>\n",
       "      <td>1.000000</td>\n",
       "      <td>32.000000</td>\n",
       "      <td>162.560000</td>\n",
       "      <td>110.000000</td>\n",
       "      <td>70.000000</td>\n",
       "    </tr>\n",
       "    <tr>\n",
       "      <th>max</th>\n",
       "      <td>32.000000</td>\n",
       "      <td>4.000000</td>\n",
       "      <td>38.000000</td>\n",
       "      <td>167.640000</td>\n",
       "      <td>150.000000</td>\n",
       "      <td>100.000000</td>\n",
       "    </tr>\n",
       "  </tbody>\n",
       "</table>\n",
       "</div>"
      ],
      "text/plain": [
       "         umur_ibu     gravida  umur_kehamilan  tinggi_badan  tekanan_sistolik  \\\n",
       "count  956.000000  956.000000      956.000000    956.000000        956.000000   \n",
       "mean    22.995816    1.188285       28.883891    158.643724        102.913180   \n",
       "std      3.617292    0.441450        5.018511      4.382737          9.681406   \n",
       "min     17.000000    1.000000       20.000000    142.240000         80.000000   \n",
       "25%     20.000000    1.000000       25.000000    154.940000        100.000000   \n",
       "50%     22.000000    1.000000       30.000000    157.480000        100.000000   \n",
       "75%     25.000000    1.000000       32.000000    162.560000        110.000000   \n",
       "max     32.000000    4.000000       38.000000    167.640000        150.000000   \n",
       "\n",
       "       tekanan_diastolik  \n",
       "count         956.000000  \n",
       "mean           64.623431  \n",
       "std             8.055075  \n",
       "min            55.000000  \n",
       "25%            60.000000  \n",
       "50%            60.000000  \n",
       "75%            70.000000  \n",
       "max           100.000000  "
      ]
     },
     "execution_count": 30,
     "metadata": {},
     "output_type": "execute_result"
    }
   ],
   "source": [
    "numeric.describe()"
   ]
  },
  {
   "cell_type": "code",
   "execution_count": 31,
   "id": "004d19bf",
   "metadata": {
    "colab": {
     "base_uri": "https://localhost:8080/",
     "height": 206
    },
    "executionInfo": {
     "elapsed": 48,
     "status": "ok",
     "timestamp": 1746861999487,
     "user": {
      "displayName": "Dyah Megawati",
      "userId": "05129674134829867442"
     },
     "user_tz": -420
    },
    "id": "004d19bf",
    "outputId": "8459a617-0959-460a-f1fa-fa0a91b63550"
   },
   "outputs": [
    {
     "data": {
      "text/html": [
       "<div>\n",
       "<style scoped>\n",
       "    .dataframe tbody tr th:only-of-type {\n",
       "        vertical-align: middle;\n",
       "    }\n",
       "\n",
       "    .dataframe tbody tr th {\n",
       "        vertical-align: top;\n",
       "    }\n",
       "\n",
       "    .dataframe thead th {\n",
       "        text-align: right;\n",
       "    }\n",
       "</style>\n",
       "<table border=\"1\" class=\"dataframe\">\n",
       "  <thead>\n",
       "    <tr style=\"text-align: right;\">\n",
       "      <th></th>\n",
       "      <th>umur_ibu</th>\n",
       "      <th>gravida</th>\n",
       "      <th>umur_kehamilan</th>\n",
       "      <th>tinggi_badan</th>\n",
       "      <th>tekanan_sistolik</th>\n",
       "      <th>tekanan_diastolik</th>\n",
       "      <th>penyakit_anemia</th>\n",
       "      <th>posisi_janin</th>\n",
       "      <th>hasil_tes_VDRL</th>\n",
       "      <th>hasil_tes_HbsAg</th>\n",
       "      <th>kategori_tekanan_darah</th>\n",
       "    </tr>\n",
       "  </thead>\n",
       "  <tbody>\n",
       "    <tr>\n",
       "      <th>0</th>\n",
       "      <td>32</td>\n",
       "      <td>3</td>\n",
       "      <td>23</td>\n",
       "      <td>160.02</td>\n",
       "      <td>90</td>\n",
       "      <td>60</td>\n",
       "      <td>Negatif</td>\n",
       "      <td>Normal</td>\n",
       "      <td>Negatif</td>\n",
       "      <td>Negatif</td>\n",
       "      <td>Normal</td>\n",
       "    </tr>\n",
       "    <tr>\n",
       "      <th>1</th>\n",
       "      <td>25</td>\n",
       "      <td>2</td>\n",
       "      <td>38</td>\n",
       "      <td>157.48</td>\n",
       "      <td>100</td>\n",
       "      <td>70</td>\n",
       "      <td>Negatif</td>\n",
       "      <td>Normal</td>\n",
       "      <td>Positif</td>\n",
       "      <td>Negatif</td>\n",
       "      <td>Normal</td>\n",
       "    </tr>\n",
       "    <tr>\n",
       "      <th>2</th>\n",
       "      <td>32</td>\n",
       "      <td>3</td>\n",
       "      <td>30</td>\n",
       "      <td>152.40</td>\n",
       "      <td>100</td>\n",
       "      <td>60</td>\n",
       "      <td>Positif</td>\n",
       "      <td>Normal</td>\n",
       "      <td>Negatif</td>\n",
       "      <td>Negatif</td>\n",
       "      <td>Normal</td>\n",
       "    </tr>\n",
       "    <tr>\n",
       "      <th>3</th>\n",
       "      <td>32</td>\n",
       "      <td>2</td>\n",
       "      <td>25</td>\n",
       "      <td>162.56</td>\n",
       "      <td>100</td>\n",
       "      <td>65</td>\n",
       "      <td>Negatif</td>\n",
       "      <td>Normal</td>\n",
       "      <td>Positif</td>\n",
       "      <td>Negatif</td>\n",
       "      <td>Normal</td>\n",
       "    </tr>\n",
       "    <tr>\n",
       "      <th>4</th>\n",
       "      <td>20</td>\n",
       "      <td>1</td>\n",
       "      <td>30</td>\n",
       "      <td>157.48</td>\n",
       "      <td>100</td>\n",
       "      <td>55</td>\n",
       "      <td>Negatif</td>\n",
       "      <td>Normal</td>\n",
       "      <td>Negatif</td>\n",
       "      <td>Negatif</td>\n",
       "      <td>Hipotensi</td>\n",
       "    </tr>\n",
       "  </tbody>\n",
       "</table>\n",
       "</div>"
      ],
      "text/plain": [
       "   umur_ibu  gravida  umur_kehamilan  tinggi_badan  tekanan_sistolik  \\\n",
       "0        32        3              23        160.02                90   \n",
       "1        25        2              38        157.48               100   \n",
       "2        32        3              30        152.40               100   \n",
       "3        32        2              25        162.56               100   \n",
       "4        20        1              30        157.48               100   \n",
       "\n",
       "   tekanan_diastolik penyakit_anemia posisi_janin hasil_tes_VDRL  \\\n",
       "0                 60         Negatif       Normal        Negatif   \n",
       "1                 70         Negatif       Normal        Positif   \n",
       "2                 60         Positif       Normal        Negatif   \n",
       "3                 65         Negatif       Normal        Positif   \n",
       "4                 55         Negatif       Normal        Negatif   \n",
       "\n",
       "  hasil_tes_HbsAg kategori_tekanan_darah  \n",
       "0         Negatif                 Normal  \n",
       "1         Negatif                 Normal  \n",
       "2         Negatif                 Normal  \n",
       "3         Negatif                 Normal  \n",
       "4         Negatif              Hipotensi  "
      ]
     },
     "execution_count": 31,
     "metadata": {},
     "output_type": "execute_result"
    }
   ],
   "source": [
    "pregnancydf = pd.concat([numeric, categorical], axis=1)\n",
    "pregnancydf.head()"
   ]
  },
  {
   "cell_type": "markdown",
   "id": "4fe81aa1",
   "metadata": {
    "id": "4fe81aa1"
   },
   "source": [
    "#### Labelling"
   ]
  },
  {
   "cell_type": "code",
   "execution_count": 32,
   "id": "fc49c720",
   "metadata": {},
   "outputs": [],
   "source": [
    "def realistic_labeling(pregnancydf):\n",
    "    \"\"\"\n",
    "    Realistic labeling dengan faktor risiko yang diperbarui dan ketidakpastian klinis.\n",
    "    Faktor risiko dan skor maksimal disesuaikan berdasarkan permintaan.\n",
    "    \"\"\"\n",
    "    np.random.seed(42)  # Menjamin hasil yang konsisten dan dapat direproduksi\n",
    "    labels = []\n",
    "    scores = []\n",
    "    \n",
    "    for _, row in pregnancydf.iterrows():\n",
    "        # Setiap kehamilan dimulai dengan skor dasar 2\n",
    "        score = 2\n",
    "        \n",
    "        # 1. Umur Ibu (maks skor 4)\n",
    "        age = row['umur_ibu']\n",
    "        if age < 18 or age > 35:\n",
    "            # Pilihan skor: [2, 3, 4] dengan probabilitas tertentu\n",
    "            score += np.random.choice([2, 3, 4], p=[0.2, 0.3, 0.5])\n",
    "            \n",
    "        # 2. Gravida / Jumlah Kehamilan (maks skor 4)\n",
    "        if row['gravida'] >= 4:\n",
    "            score += np.random.choice([2, 3, 4], p=[0.2, 0.3, 0.5])\n",
    "            \n",
    "        # 3. Umur Kehamilan (maks skor 4)\n",
    "        if row['umur_kehamilan'] > 42:\n",
    "            score += np.random.choice([2, 3, 4], p=[0.2, 0.3, 0.5])\n",
    "            \n",
    "        # 4. Tinggi Badan (maks skor 4)\n",
    "        if row['tinggi_badan'] < 145:\n",
    "            score += np.random.choice([2, 3, 4], p=[0.2, 0.3, 0.5])\n",
    "\n",
    "        # 5. Tekanan Darah (maks skor 8) - Faktor Risiko Signifikan\n",
    "        if row['kategori_tekanan_darah'] in ['Hipertensi stage 1', 'Hipertensi stage 2']:\n",
    "            # Skor lebih tinggi karena risiko lebih signifikan\n",
    "            score += np.random.choice([6, 7, 8], p=[0.2, 0.3, 0.5])\n",
    "            \n",
    "        # 6. Penyakit Anemia (maks skor 4)\n",
    "        if row['penyakit_anemia'] == 'Positif':\n",
    "            score += np.random.choice([2, 3, 4], p=[0.2, 0.3, 0.5])\n",
    "            \n",
    "        # 7. Posisi Janin (maks skor 8) - Faktor Risiko Signifikan\n",
    "        if row['posisi_janin'] == 'Abnormal':\n",
    "            score += np.random.choice([6, 7, 8], p=[0.2, 0.3, 0.5])\n",
    "            \n",
    "        # 8. Hasil Tes VDRL (maks skor 4)\n",
    "        if row['hasil_tes_VDRL'] == 'Positif':\n",
    "            score += np.random.choice([2, 3, 4], p=[0.2, 0.3, 0.5])\n",
    "            \n",
    "        # 9. Hasil Tes HbsAg (maks skor 4)\n",
    "        if row['hasil_tes_HbsAg'] == 'Positif':\n",
    "            score += np.random.choice([2, 3, 4], p=[0.2, 0.3, 0.5])\n",
    "        \n",
    "        # Menambahkan \"Faktor X\" atau ketidakpastian klinis umum\n",
    "        uncertainty = np.random.choice([-1, 0, 1], p=[0.15, 0.7, 0.15])\n",
    "        score += uncertainty\n",
    "        \n",
    "        # Memastikan skor tidak pernah kurang dari skor dasar\n",
    "        score = max(2, score)\n",
    "        \n",
    "        scores.append(score)\n",
    "        \n",
    "        # Konversi skor numerik ke label kategori risiko\n",
    "        # Threshold ini mungkin perlu disesuaikan karena jumlah faktor risiko bertambah\n",
    "        if score <= 5:\n",
    "            labels.append('KRR') # Risiko Rendah\n",
    "        elif score <= 10:\n",
    "            labels.append('KRT') # Risiko Tinggi\n",
    "        else:\n",
    "            labels.append('KRST') # Risiko Sangat Tinggi\n",
    "    \n",
    "    return labels, scores\n",
    "\n",
    "# Terapkan fungsi pelabelan\n",
    "labels, scores = realistic_labeling(pregnancydf)\n",
    "\n",
    "# Tambahkan ke dataframe\n",
    "pregnancydf['skor_risiko'] = scores\n",
    "pregnancydf['label_risiko'] = labels"
   ]
  },
  {
   "cell_type": "code",
   "execution_count": 33,
   "id": "7b5ba6de",
   "metadata": {
    "colab": {
     "base_uri": "https://localhost:8080/",
     "height": 226
    },
    "executionInfo": {
     "elapsed": 74,
     "status": "ok",
     "timestamp": 1746862023430,
     "user": {
      "displayName": "Dyah Megawati",
      "userId": "05129674134829867442"
     },
     "user_tz": -420
    },
    "id": "7b5ba6de",
    "outputId": "6a5a1f41-e4e7-4ff5-ab72-0578d962c791"
   },
   "outputs": [
    {
     "data": {
      "text/html": [
       "<div>\n",
       "<style scoped>\n",
       "    .dataframe tbody tr th:only-of-type {\n",
       "        vertical-align: middle;\n",
       "    }\n",
       "\n",
       "    .dataframe tbody tr th {\n",
       "        vertical-align: top;\n",
       "    }\n",
       "\n",
       "    .dataframe thead th {\n",
       "        text-align: right;\n",
       "    }\n",
       "</style>\n",
       "<table border=\"1\" class=\"dataframe\">\n",
       "  <thead>\n",
       "    <tr style=\"text-align: right;\">\n",
       "      <th></th>\n",
       "      <th>umur_ibu</th>\n",
       "      <th>gravida</th>\n",
       "      <th>umur_kehamilan</th>\n",
       "      <th>tinggi_badan</th>\n",
       "      <th>tekanan_sistolik</th>\n",
       "      <th>tekanan_diastolik</th>\n",
       "      <th>penyakit_anemia</th>\n",
       "      <th>posisi_janin</th>\n",
       "      <th>hasil_tes_VDRL</th>\n",
       "      <th>hasil_tes_HbsAg</th>\n",
       "      <th>kategori_tekanan_darah</th>\n",
       "      <th>skor_risiko</th>\n",
       "      <th>label_risiko</th>\n",
       "    </tr>\n",
       "  </thead>\n",
       "  <tbody>\n",
       "    <tr>\n",
       "      <th>0</th>\n",
       "      <td>32</td>\n",
       "      <td>3</td>\n",
       "      <td>23</td>\n",
       "      <td>160.02</td>\n",
       "      <td>90</td>\n",
       "      <td>60</td>\n",
       "      <td>Negatif</td>\n",
       "      <td>Normal</td>\n",
       "      <td>Negatif</td>\n",
       "      <td>Negatif</td>\n",
       "      <td>Normal</td>\n",
       "      <td>2</td>\n",
       "      <td>KRR</td>\n",
       "    </tr>\n",
       "    <tr>\n",
       "      <th>1</th>\n",
       "      <td>25</td>\n",
       "      <td>2</td>\n",
       "      <td>38</td>\n",
       "      <td>157.48</td>\n",
       "      <td>100</td>\n",
       "      <td>70</td>\n",
       "      <td>Negatif</td>\n",
       "      <td>Normal</td>\n",
       "      <td>Positif</td>\n",
       "      <td>Negatif</td>\n",
       "      <td>Normal</td>\n",
       "      <td>6</td>\n",
       "      <td>KRT</td>\n",
       "    </tr>\n",
       "    <tr>\n",
       "      <th>2</th>\n",
       "      <td>32</td>\n",
       "      <td>3</td>\n",
       "      <td>30</td>\n",
       "      <td>152.40</td>\n",
       "      <td>100</td>\n",
       "      <td>60</td>\n",
       "      <td>Positif</td>\n",
       "      <td>Normal</td>\n",
       "      <td>Negatif</td>\n",
       "      <td>Negatif</td>\n",
       "      <td>Normal</td>\n",
       "      <td>6</td>\n",
       "      <td>KRT</td>\n",
       "    </tr>\n",
       "    <tr>\n",
       "      <th>3</th>\n",
       "      <td>32</td>\n",
       "      <td>2</td>\n",
       "      <td>25</td>\n",
       "      <td>162.56</td>\n",
       "      <td>100</td>\n",
       "      <td>65</td>\n",
       "      <td>Negatif</td>\n",
       "      <td>Normal</td>\n",
       "      <td>Positif</td>\n",
       "      <td>Negatif</td>\n",
       "      <td>Normal</td>\n",
       "      <td>3</td>\n",
       "      <td>KRR</td>\n",
       "    </tr>\n",
       "    <tr>\n",
       "      <th>4</th>\n",
       "      <td>20</td>\n",
       "      <td>1</td>\n",
       "      <td>30</td>\n",
       "      <td>157.48</td>\n",
       "      <td>100</td>\n",
       "      <td>55</td>\n",
       "      <td>Negatif</td>\n",
       "      <td>Normal</td>\n",
       "      <td>Negatif</td>\n",
       "      <td>Negatif</td>\n",
       "      <td>Hipotensi</td>\n",
       "      <td>3</td>\n",
       "      <td>KRR</td>\n",
       "    </tr>\n",
       "  </tbody>\n",
       "</table>\n",
       "</div>"
      ],
      "text/plain": [
       "   umur_ibu  gravida  umur_kehamilan  tinggi_badan  tekanan_sistolik  \\\n",
       "0        32        3              23        160.02                90   \n",
       "1        25        2              38        157.48               100   \n",
       "2        32        3              30        152.40               100   \n",
       "3        32        2              25        162.56               100   \n",
       "4        20        1              30        157.48               100   \n",
       "\n",
       "   tekanan_diastolik penyakit_anemia posisi_janin hasil_tes_VDRL  \\\n",
       "0                 60         Negatif       Normal        Negatif   \n",
       "1                 70         Negatif       Normal        Positif   \n",
       "2                 60         Positif       Normal        Negatif   \n",
       "3                 65         Negatif       Normal        Positif   \n",
       "4                 55         Negatif       Normal        Negatif   \n",
       "\n",
       "  hasil_tes_HbsAg kategori_tekanan_darah  skor_risiko label_risiko  \n",
       "0         Negatif                 Normal            2          KRR  \n",
       "1         Negatif                 Normal            6          KRT  \n",
       "2         Negatif                 Normal            6          KRT  \n",
       "3         Negatif                 Normal            3          KRR  \n",
       "4         Negatif              Hipotensi            3          KRR  "
      ]
     },
     "execution_count": 33,
     "metadata": {},
     "output_type": "execute_result"
    }
   ],
   "source": [
    "pregnancydf.head()"
   ]
  },
  {
   "cell_type": "code",
   "execution_count": 34,
   "id": "68836bc1",
   "metadata": {
    "colab": {
     "base_uri": "https://localhost:8080/"
    },
    "executionInfo": {
     "elapsed": 22,
     "status": "ok",
     "timestamp": 1746862038294,
     "user": {
      "displayName": "Dyah Megawati",
      "userId": "05129674134829867442"
     },
     "user_tz": -420
    },
    "id": "68836bc1",
    "outputId": "d7837d45-1f6e-4743-8268-4321918ab0a4"
   },
   "outputs": [
    {
     "name": "stdout",
     "output_type": "stream",
     "text": [
      "Distribusi Persentase Label Risiko:\n",
      "label_risiko\n",
      "KRR     0.632845\n",
      "KRT     0.337866\n",
      "KRST    0.029289\n",
      "Name: proportion, dtype: float64\n"
     ]
    }
   ],
   "source": [
    "risk_order = ['KRR', 'KRT', 'KRST']\n",
    "pregnancydf['label_risiko'] = pd.Categorical(pregnancydf['label_risiko'], categories=risk_order, ordered=True)\n",
    "\n",
    "# Menampilkan distribusi klasifikasi berbentuk persentase\n",
    "print(\"Distribusi Persentase Label Risiko:\")\n",
    "print(pregnancydf['label_risiko'].value_counts(normalize=True).sort_index())"
   ]
  },
  {
   "cell_type": "code",
   "execution_count": 35,
   "id": "31393cf4",
   "metadata": {
    "colab": {
     "base_uri": "https://localhost:8080/"
    },
    "executionInfo": {
     "elapsed": 16,
     "status": "ok",
     "timestamp": 1746862039623,
     "user": {
      "displayName": "Dyah Megawati",
      "userId": "05129674134829867442"
     },
     "user_tz": -420
    },
    "id": "31393cf4",
    "outputId": "efec8fdf-1e31-425d-aa37-84ebd480aa03"
   },
   "outputs": [
    {
     "name": "stdout",
     "output_type": "stream",
     "text": [
      "umur_ibu                       32\n",
      "gravida                         3\n",
      "umur_kehamilan                 30\n",
      "tinggi_badan                152.4\n",
      "tekanan_sistolik              100\n",
      "tekanan_diastolik              60\n",
      "penyakit_anemia           Positif\n",
      "posisi_janin               Normal\n",
      "hasil_tes_VDRL            Negatif\n",
      "hasil_tes_HbsAg           Negatif\n",
      "kategori_tekanan_darah     Normal\n",
      "skor_risiko                     6\n",
      "label_risiko                  KRT\n",
      "Name: 2, dtype: object\n"
     ]
    }
   ],
   "source": [
    "print(pregnancydf.iloc[2])  # Cek data di index tertentu"
   ]
  },
  {
   "cell_type": "code",
   "execution_count": 36,
   "id": "faad55b5",
   "metadata": {
    "colab": {
     "base_uri": "https://localhost:8080/",
     "height": 569
    },
    "executionInfo": {
     "elapsed": 643,
     "status": "ok",
     "timestamp": 1746862045637,
     "user": {
      "displayName": "Dyah Megawati",
      "userId": "05129674134829867442"
     },
     "user_tz": -420
    },
    "id": "faad55b5",
    "outputId": "de632efb-acea-42d5-f878-6b27ca6527ab"
   },
   "outputs": [
    {
     "data": {
      "image/png": "[encoded data removed]",
      "text/plain": [
       "<Figure size 800x600 with 1 Axes>"
      ]
     },
     "metadata": {},
     "output_type": "display_data"
    }
   ],
   "source": [
    "# Menampilkan histogram dari skor risiko\n",
    "plt.figure(figsize=(8,6))  # Ukuran grafik\n",
    "sns.histplot(pregnancydf['skor_risiko'], kde=False, bins=10, color='skyblue')\n",
    "plt.title('Distribusi Skor Risiko Kehamilan', fontsize=14)\n",
    "plt.xlabel('Skor Risiko', fontsize=12)\n",
    "plt.ylabel('Jumlah Data', fontsize=12)\n",
    "plt.show()"
   ]
  },
  {
   "cell_type": "code",
   "execution_count": 37,
   "id": "0d8494e4",
   "metadata": {
    "colab": {
     "base_uri": "https://localhost:8080/",
     "height": 777
    },
    "executionInfo": {
     "elapsed": 46,
     "status": "ok",
     "timestamp": 1746862051782,
     "user": {
      "displayName": "Dyah Megawati",
      "userId": "05129674134829867442"
     },
     "user_tz": -420
    },
    "id": "0d8494e4",
    "outputId": "e39338af-ad4b-4ee5-dce2-13c17d26996c"
   },
   "outputs": [
    {
     "name": "stdout",
     "output_type": "stream",
     "text": [
      "\n",
      "Jumlah Data berdasarkan Label Risiko:\n",
      "label_risiko\n",
      "KRR     605\n",
      "KRT     323\n",
      "KRST     28\n",
      "Name: count, dtype: int64\n"
     ]
    },
    {
     "name": "stderr",
     "output_type": "stream",
     "text": [
      "C:\\Users\\INFINIX\\AppData\\Local\\Temp\\ipykernel_4932\\1626895838.py:7: FutureWarning: \n",
      "\n",
      "Passing `palette` without assigning `hue` is deprecated and will be removed in v0.14.0. Assign the `x` variable to `hue` and set `legend=False` for the same effect.\n",
      "\n",
      "  sns.countplot(x='label_risiko', data=pregnancydf, palette='Set3', order=risk_order)\n"
     ]
    },
    {
     "data": {
      "image/png": "[encoded data removed]",
      "text/plain": [
       "<Figure size 800x600 with 1 Axes>"
      ]
     },
     "metadata": {},
     "output_type": "display_data"
    }
   ],
   "source": [
    "# Menampilkan jumlah data\n",
    "print(\"\\nJumlah Data berdasarkan Label Risiko:\")\n",
    "print(pregnancydf['label_risiko'].value_counts().sort_index())\n",
    "\n",
    "# Grafik bar sesuai urutan risiko\n",
    "plt.figure(figsize=(8,6))\n",
    "sns.countplot(x='label_risiko', data=pregnancydf, palette='Set3', order=risk_order)\n",
    "plt.title('Distribusi Klasifikasi Risiko Kehamilan', fontsize=14)\n",
    "plt.xlabel('Label Risiko', fontsize=12)\n",
    "plt.ylabel('Jumlah Data', fontsize=12) \n",
    "plt.show()"
   ]
  },
  {
   "cell_type": "code",
   "execution_count": 38,
   "id": "b25bd032",
   "metadata": {
    "colab": {
     "base_uri": "https://localhost:8080/",
     "height": 443
    },
    "executionInfo": {
     "elapsed": 174,
     "status": "ok",
     "timestamp": 1746862055077,
     "user": {
      "displayName": "Dyah Megawati",
      "userId": "05129674134829867442"
     },
     "user_tz": -420
    },
    "id": "b25bd032",
    "outputId": "21c87d89-6668-499b-a236-03dcdf680501"
   },
   "outputs": [
    {
     "data": {
      "text/html": [
       "<div>\n",
       "<style scoped>\n",
       "    .dataframe tbody tr th:only-of-type {\n",
       "        vertical-align: middle;\n",
       "    }\n",
       "\n",
       "    .dataframe tbody tr th {\n",
       "        vertical-align: top;\n",
       "    }\n",
       "\n",
       "    .dataframe thead th {\n",
       "        text-align: right;\n",
       "    }\n",
       "</style>\n",
       "<table border=\"1\" class=\"dataframe\">\n",
       "  <thead>\n",
       "    <tr style=\"text-align: right;\">\n",
       "      <th></th>\n",
       "      <th>umur_ibu</th>\n",
       "      <th>gravida</th>\n",
       "      <th>umur_kehamilan</th>\n",
       "      <th>tinggi_badan</th>\n",
       "      <th>tekanan_sistolik</th>\n",
       "      <th>tekanan_diastolik</th>\n",
       "      <th>penyakit_anemia</th>\n",
       "      <th>posisi_janin</th>\n",
       "      <th>hasil_tes_VDRL</th>\n",
       "      <th>hasil_tes_HbsAg</th>\n",
       "      <th>kategori_tekanan_darah</th>\n",
       "      <th>skor_risiko</th>\n",
       "      <th>label_risiko</th>\n",
       "    </tr>\n",
       "  </thead>\n",
       "  <tbody>\n",
       "    <tr>\n",
       "      <th>0</th>\n",
       "      <td>32</td>\n",
       "      <td>3</td>\n",
       "      <td>23</td>\n",
       "      <td>160.02</td>\n",
       "      <td>90</td>\n",
       "      <td>60</td>\n",
       "      <td>Negatif</td>\n",
       "      <td>Normal</td>\n",
       "      <td>Negatif</td>\n",
       "      <td>Negatif</td>\n",
       "      <td>Normal</td>\n",
       "      <td>2</td>\n",
       "      <td>KRR</td>\n",
       "    </tr>\n",
       "    <tr>\n",
       "      <th>3</th>\n",
       "      <td>32</td>\n",
       "      <td>2</td>\n",
       "      <td>25</td>\n",
       "      <td>162.56</td>\n",
       "      <td>100</td>\n",
       "      <td>65</td>\n",
       "      <td>Negatif</td>\n",
       "      <td>Normal</td>\n",
       "      <td>Positif</td>\n",
       "      <td>Negatif</td>\n",
       "      <td>Normal</td>\n",
       "      <td>3</td>\n",
       "      <td>KRR</td>\n",
       "    </tr>\n",
       "    <tr>\n",
       "      <th>4</th>\n",
       "      <td>20</td>\n",
       "      <td>1</td>\n",
       "      <td>30</td>\n",
       "      <td>157.48</td>\n",
       "      <td>100</td>\n",
       "      <td>55</td>\n",
       "      <td>Negatif</td>\n",
       "      <td>Normal</td>\n",
       "      <td>Negatif</td>\n",
       "      <td>Negatif</td>\n",
       "      <td>Hipotensi</td>\n",
       "      <td>3</td>\n",
       "      <td>KRR</td>\n",
       "    </tr>\n",
       "    <tr>\n",
       "      <th>5</th>\n",
       "      <td>32</td>\n",
       "      <td>2</td>\n",
       "      <td>23</td>\n",
       "      <td>160.02</td>\n",
       "      <td>100</td>\n",
       "      <td>60</td>\n",
       "      <td>Negatif</td>\n",
       "      <td>Normal</td>\n",
       "      <td>Negatif</td>\n",
       "      <td>Negatif</td>\n",
       "      <td>Normal</td>\n",
       "      <td>2</td>\n",
       "      <td>KRR</td>\n",
       "    </tr>\n",
       "    <tr>\n",
       "      <th>7</th>\n",
       "      <td>22</td>\n",
       "      <td>1</td>\n",
       "      <td>20</td>\n",
       "      <td>162.56</td>\n",
       "      <td>110</td>\n",
       "      <td>55</td>\n",
       "      <td>Negatif</td>\n",
       "      <td>Normal</td>\n",
       "      <td>Positif</td>\n",
       "      <td>Negatif</td>\n",
       "      <td>Hipotensi</td>\n",
       "      <td>4</td>\n",
       "      <td>KRR</td>\n",
       "    </tr>\n",
       "    <tr>\n",
       "      <th>...</th>\n",
       "      <td>...</td>\n",
       "      <td>...</td>\n",
       "      <td>...</td>\n",
       "      <td>...</td>\n",
       "      <td>...</td>\n",
       "      <td>...</td>\n",
       "      <td>...</td>\n",
       "      <td>...</td>\n",
       "      <td>...</td>\n",
       "      <td>...</td>\n",
       "      <td>...</td>\n",
       "      <td>...</td>\n",
       "      <td>...</td>\n",
       "    </tr>\n",
       "    <tr>\n",
       "      <th>982</th>\n",
       "      <td>18</td>\n",
       "      <td>1</td>\n",
       "      <td>24</td>\n",
       "      <td>157.48</td>\n",
       "      <td>110</td>\n",
       "      <td>55</td>\n",
       "      <td>Negatif</td>\n",
       "      <td>Normal</td>\n",
       "      <td>Negatif</td>\n",
       "      <td>Negatif</td>\n",
       "      <td>Hipotensi</td>\n",
       "      <td>2</td>\n",
       "      <td>KRR</td>\n",
       "    </tr>\n",
       "    <tr>\n",
       "      <th>983</th>\n",
       "      <td>18</td>\n",
       "      <td>1</td>\n",
       "      <td>35</td>\n",
       "      <td>154.94</td>\n",
       "      <td>90</td>\n",
       "      <td>60</td>\n",
       "      <td>Negatif</td>\n",
       "      <td>Normal</td>\n",
       "      <td>Negatif</td>\n",
       "      <td>Negatif</td>\n",
       "      <td>Normal</td>\n",
       "      <td>2</td>\n",
       "      <td>KRR</td>\n",
       "    </tr>\n",
       "    <tr>\n",
       "      <th>984</th>\n",
       "      <td>18</td>\n",
       "      <td>1</td>\n",
       "      <td>35</td>\n",
       "      <td>157.48</td>\n",
       "      <td>100</td>\n",
       "      <td>60</td>\n",
       "      <td>Negatif</td>\n",
       "      <td>Normal</td>\n",
       "      <td>Negatif</td>\n",
       "      <td>Negatif</td>\n",
       "      <td>Normal</td>\n",
       "      <td>2</td>\n",
       "      <td>KRR</td>\n",
       "    </tr>\n",
       "    <tr>\n",
       "      <th>986</th>\n",
       "      <td>18</td>\n",
       "      <td>1</td>\n",
       "      <td>23</td>\n",
       "      <td>167.64</td>\n",
       "      <td>100</td>\n",
       "      <td>70</td>\n",
       "      <td>Negatif</td>\n",
       "      <td>Normal</td>\n",
       "      <td>Negatif</td>\n",
       "      <td>Negatif</td>\n",
       "      <td>Normal</td>\n",
       "      <td>2</td>\n",
       "      <td>KRR</td>\n",
       "    </tr>\n",
       "    <tr>\n",
       "      <th>988</th>\n",
       "      <td>19</td>\n",
       "      <td>1</td>\n",
       "      <td>20</td>\n",
       "      <td>160.02</td>\n",
       "      <td>90</td>\n",
       "      <td>60</td>\n",
       "      <td>Negatif</td>\n",
       "      <td>Normal</td>\n",
       "      <td>Negatif</td>\n",
       "      <td>Negatif</td>\n",
       "      <td>Normal</td>\n",
       "      <td>2</td>\n",
       "      <td>KRR</td>\n",
       "    </tr>\n",
       "  </tbody>\n",
       "</table>\n",
       "<p>605 rows × 13 columns</p>\n",
       "</div>"
      ],
      "text/plain": [
       "     umur_ibu  gravida  umur_kehamilan  tinggi_badan  tekanan_sistolik  \\\n",
       "0          32        3              23        160.02                90   \n",
       "3          32        2              25        162.56               100   \n",
       "4          20        1              30        157.48               100   \n",
       "5          32        2              23        160.02               100   \n",
       "7          22        1              20        162.56               110   \n",
       "..        ...      ...             ...           ...               ...   \n",
       "982        18        1              24        157.48               110   \n",
       "983        18        1              35        154.94                90   \n",
       "984        18        1              35        157.48               100   \n",
       "986        18        1              23        167.64               100   \n",
       "988        19        1              20        160.02                90   \n",
       "\n",
       "     tekanan_diastolik penyakit_anemia posisi_janin hasil_tes_VDRL  \\\n",
       "0                   60         Negatif       Normal        Negatif   \n",
       "3                   65         Negatif       Normal        Positif   \n",
       "4                   55         Negatif       Normal        Negatif   \n",
       "5                   60         Negatif       Normal        Negatif   \n",
       "7                   55         Negatif       Normal        Positif   \n",
       "..                 ...             ...          ...            ...   \n",
       "982                 55         Negatif       Normal        Negatif   \n",
       "983                 60         Negatif       Normal        Negatif   \n",
       "984                 60         Negatif       Normal        Negatif   \n",
       "986                 70         Negatif       Normal        Negatif   \n",
       "988                 60         Negatif       Normal        Negatif   \n",
       "\n",
       "    hasil_tes_HbsAg kategori_tekanan_darah  skor_risiko label_risiko  \n",
       "0           Negatif                 Normal            2          KRR  \n",
       "3           Negatif                 Normal            3          KRR  \n",
       "4           Negatif              Hipotensi            3          KRR  \n",
       "5           Negatif                 Normal            2          KRR  \n",
       "7           Negatif              Hipotensi            4          KRR  \n",
       "..              ...                    ...          ...          ...  \n",
       "982         Negatif              Hipotensi            2          KRR  \n",
       "983         Negatif                 Normal            2          KRR  \n",
       "984         Negatif                 Normal            2          KRR  \n",
       "986         Negatif                 Normal            2          KRR  \n",
       "988         Negatif                 Normal            2          KRR  \n",
       "\n",
       "[605 rows x 13 columns]"
      ]
     },
     "execution_count": 38,
     "metadata": {},
     "output_type": "execute_result"
    }
   ],
   "source": [
    "pregnancydf[pregnancydf['label_risiko'] == 'KRR']"
   ]
  },
  {
   "cell_type": "code",
   "execution_count": 39,
   "id": "93d5fcfc",
   "metadata": {
    "colab": {
     "base_uri": "https://localhost:8080/",
     "height": 443
    },
    "executionInfo": {
     "elapsed": 25,
     "status": "ok",
     "timestamp": 1746862057756,
     "user": {
      "displayName": "Dyah Megawati",
      "userId": "05129674134829867442"
     },
     "user_tz": -420
    },
    "id": "93d5fcfc",
    "outputId": "af6c4480-5ede-4b74-ab29-df5a96b555a8"
   },
   "outputs": [
    {
     "data": {
      "text/html": [
       "<div>\n",
       "<style scoped>\n",
       "    .dataframe tbody tr th:only-of-type {\n",
       "        vertical-align: middle;\n",
       "    }\n",
       "\n",
       "    .dataframe tbody tr th {\n",
       "        vertical-align: top;\n",
       "    }\n",
       "\n",
       "    .dataframe thead th {\n",
       "        text-align: right;\n",
       "    }\n",
       "</style>\n",
       "<table border=\"1\" class=\"dataframe\">\n",
       "  <thead>\n",
       "    <tr style=\"text-align: right;\">\n",
       "      <th></th>\n",
       "      <th>umur_ibu</th>\n",
       "      <th>gravida</th>\n",
       "      <th>umur_kehamilan</th>\n",
       "      <th>tinggi_badan</th>\n",
       "      <th>tekanan_sistolik</th>\n",
       "      <th>tekanan_diastolik</th>\n",
       "      <th>penyakit_anemia</th>\n",
       "      <th>posisi_janin</th>\n",
       "      <th>hasil_tes_VDRL</th>\n",
       "      <th>hasil_tes_HbsAg</th>\n",
       "      <th>kategori_tekanan_darah</th>\n",
       "      <th>skor_risiko</th>\n",
       "      <th>label_risiko</th>\n",
       "    </tr>\n",
       "  </thead>\n",
       "  <tbody>\n",
       "    <tr>\n",
       "      <th>1</th>\n",
       "      <td>25</td>\n",
       "      <td>2</td>\n",
       "      <td>38</td>\n",
       "      <td>157.48</td>\n",
       "      <td>100</td>\n",
       "      <td>70</td>\n",
       "      <td>Negatif</td>\n",
       "      <td>Normal</td>\n",
       "      <td>Positif</td>\n",
       "      <td>Negatif</td>\n",
       "      <td>Normal</td>\n",
       "      <td>6</td>\n",
       "      <td>KRT</td>\n",
       "    </tr>\n",
       "    <tr>\n",
       "      <th>2</th>\n",
       "      <td>32</td>\n",
       "      <td>3</td>\n",
       "      <td>30</td>\n",
       "      <td>152.40</td>\n",
       "      <td>100</td>\n",
       "      <td>60</td>\n",
       "      <td>Positif</td>\n",
       "      <td>Normal</td>\n",
       "      <td>Negatif</td>\n",
       "      <td>Negatif</td>\n",
       "      <td>Normal</td>\n",
       "      <td>6</td>\n",
       "      <td>KRT</td>\n",
       "    </tr>\n",
       "    <tr>\n",
       "      <th>12</th>\n",
       "      <td>32</td>\n",
       "      <td>1</td>\n",
       "      <td>38</td>\n",
       "      <td>157.48</td>\n",
       "      <td>110</td>\n",
       "      <td>80</td>\n",
       "      <td>Negatif</td>\n",
       "      <td>Normal</td>\n",
       "      <td>Positif</td>\n",
       "      <td>Negatif</td>\n",
       "      <td>Prehipertensi</td>\n",
       "      <td>6</td>\n",
       "      <td>KRT</td>\n",
       "    </tr>\n",
       "    <tr>\n",
       "      <th>13</th>\n",
       "      <td>24</td>\n",
       "      <td>1</td>\n",
       "      <td>25</td>\n",
       "      <td>165.10</td>\n",
       "      <td>100</td>\n",
       "      <td>60</td>\n",
       "      <td>Positif</td>\n",
       "      <td>Normal</td>\n",
       "      <td>Positif</td>\n",
       "      <td>Negatif</td>\n",
       "      <td>Normal</td>\n",
       "      <td>9</td>\n",
       "      <td>KRT</td>\n",
       "    </tr>\n",
       "    <tr>\n",
       "      <th>22</th>\n",
       "      <td>24</td>\n",
       "      <td>2</td>\n",
       "      <td>35</td>\n",
       "      <td>167.64</td>\n",
       "      <td>80</td>\n",
       "      <td>60</td>\n",
       "      <td>Negatif</td>\n",
       "      <td>Abnormal</td>\n",
       "      <td>Negatif</td>\n",
       "      <td>Negatif</td>\n",
       "      <td>Hipotensi</td>\n",
       "      <td>9</td>\n",
       "      <td>KRT</td>\n",
       "    </tr>\n",
       "    <tr>\n",
       "      <th>...</th>\n",
       "      <td>...</td>\n",
       "      <td>...</td>\n",
       "      <td>...</td>\n",
       "      <td>...</td>\n",
       "      <td>...</td>\n",
       "      <td>...</td>\n",
       "      <td>...</td>\n",
       "      <td>...</td>\n",
       "      <td>...</td>\n",
       "      <td>...</td>\n",
       "      <td>...</td>\n",
       "      <td>...</td>\n",
       "      <td>...</td>\n",
       "    </tr>\n",
       "    <tr>\n",
       "      <th>975</th>\n",
       "      <td>18</td>\n",
       "      <td>1</td>\n",
       "      <td>36</td>\n",
       "      <td>157.48</td>\n",
       "      <td>100</td>\n",
       "      <td>65</td>\n",
       "      <td>Negatif</td>\n",
       "      <td>Normal</td>\n",
       "      <td>Positif</td>\n",
       "      <td>Negatif</td>\n",
       "      <td>Normal</td>\n",
       "      <td>6</td>\n",
       "      <td>KRT</td>\n",
       "    </tr>\n",
       "    <tr>\n",
       "      <th>979</th>\n",
       "      <td>25</td>\n",
       "      <td>1</td>\n",
       "      <td>32</td>\n",
       "      <td>167.64</td>\n",
       "      <td>110</td>\n",
       "      <td>80</td>\n",
       "      <td>Negatif</td>\n",
       "      <td>Normal</td>\n",
       "      <td>Positif</td>\n",
       "      <td>Negatif</td>\n",
       "      <td>Prehipertensi</td>\n",
       "      <td>6</td>\n",
       "      <td>KRT</td>\n",
       "    </tr>\n",
       "    <tr>\n",
       "      <th>985</th>\n",
       "      <td>30</td>\n",
       "      <td>3</td>\n",
       "      <td>30</td>\n",
       "      <td>152.40</td>\n",
       "      <td>100</td>\n",
       "      <td>70</td>\n",
       "      <td>Negatif</td>\n",
       "      <td>Normal</td>\n",
       "      <td>Positif</td>\n",
       "      <td>Negatif</td>\n",
       "      <td>Normal</td>\n",
       "      <td>6</td>\n",
       "      <td>KRT</td>\n",
       "    </tr>\n",
       "    <tr>\n",
       "      <th>991</th>\n",
       "      <td>25</td>\n",
       "      <td>2</td>\n",
       "      <td>30</td>\n",
       "      <td>152.40</td>\n",
       "      <td>90</td>\n",
       "      <td>60</td>\n",
       "      <td>Negatif</td>\n",
       "      <td>Normal</td>\n",
       "      <td>Positif</td>\n",
       "      <td>Negatif</td>\n",
       "      <td>Normal</td>\n",
       "      <td>6</td>\n",
       "      <td>KRT</td>\n",
       "    </tr>\n",
       "    <tr>\n",
       "      <th>994</th>\n",
       "      <td>22</td>\n",
       "      <td>1</td>\n",
       "      <td>30</td>\n",
       "      <td>160.02</td>\n",
       "      <td>110</td>\n",
       "      <td>80</td>\n",
       "      <td>Negatif</td>\n",
       "      <td>Abnormal</td>\n",
       "      <td>Negatif</td>\n",
       "      <td>Negatif</td>\n",
       "      <td>Prehipertensi</td>\n",
       "      <td>7</td>\n",
       "      <td>KRT</td>\n",
       "    </tr>\n",
       "  </tbody>\n",
       "</table>\n",
       "<p>323 rows × 13 columns</p>\n",
       "</div>"
      ],
      "text/plain": [
       "     umur_ibu  gravida  umur_kehamilan  tinggi_badan  tekanan_sistolik  \\\n",
       "1          25        2              38        157.48               100   \n",
       "2          32        3              30        152.40               100   \n",
       "12         32        1              38        157.48               110   \n",
       "13         24        1              25        165.10               100   \n",
       "22         24        2              35        167.64                80   \n",
       "..        ...      ...             ...           ...               ...   \n",
       "975        18        1              36        157.48               100   \n",
       "979        25        1              32        167.64               110   \n",
       "985        30        3              30        152.40               100   \n",
       "991        25        2              30        152.40                90   \n",
       "994        22        1              30        160.02               110   \n",
       "\n",
       "     tekanan_diastolik penyakit_anemia posisi_janin hasil_tes_VDRL  \\\n",
       "1                   70         Negatif       Normal        Positif   \n",
       "2                   60         Positif       Normal        Negatif   \n",
       "12                  80         Negatif       Normal        Positif   \n",
       "13                  60         Positif       Normal        Positif   \n",
       "22                  60         Negatif     Abnormal        Negatif   \n",
       "..                 ...             ...          ...            ...   \n",
       "975                 65         Negatif       Normal        Positif   \n",
       "979                 80         Negatif       Normal        Positif   \n",
       "985                 70         Negatif       Normal        Positif   \n",
       "991                 60         Negatif       Normal        Positif   \n",
       "994                 80         Negatif     Abnormal        Negatif   \n",
       "\n",
       "    hasil_tes_HbsAg kategori_tekanan_darah  skor_risiko label_risiko  \n",
       "1           Negatif                 Normal            6          KRT  \n",
       "2           Negatif                 Normal            6          KRT  \n",
       "12          Negatif          Prehipertensi            6          KRT  \n",
       "13          Negatif                 Normal            9          KRT  \n",
       "22          Negatif              Hipotensi            9          KRT  \n",
       "..              ...                    ...          ...          ...  \n",
       "975         Negatif                 Normal            6          KRT  \n",
       "979         Negatif          Prehipertensi            6          KRT  \n",
       "985         Negatif                 Normal            6          KRT  \n",
       "991         Negatif                 Normal            6          KRT  \n",
       "994         Negatif          Prehipertensi            7          KRT  \n",
       "\n",
       "[323 rows x 13 columns]"
      ]
     },
     "execution_count": 39,
     "metadata": {},
     "output_type": "execute_result"
    }
   ],
   "source": [
    "pregnancydf[pregnancydf['label_risiko'] == 'KRT']\n"
   ]
  },
  {
   "cell_type": "code",
   "execution_count": 40,
   "id": "20f335ca",
   "metadata": {
    "colab": {
     "base_uri": "https://localhost:8080/",
     "height": 351
    },
    "executionInfo": {
     "elapsed": 149,
     "status": "ok",
     "timestamp": 1746862060426,
     "user": {
      "displayName": "Dyah Megawati",
      "userId": "05129674134829867442"
     },
     "user_tz": -420
    },
    "id": "20f335ca",
    "outputId": "14ac9d77-bece-41fe-e4ad-86b52d57f76b"
   },
   "outputs": [
    {
     "data": {
      "text/html": [
       "<div>\n",
       "<style scoped>\n",
       "    .dataframe tbody tr th:only-of-type {\n",
       "        vertical-align: middle;\n",
       "    }\n",
       "\n",
       "    .dataframe tbody tr th {\n",
       "        vertical-align: top;\n",
       "    }\n",
       "\n",
       "    .dataframe thead th {\n",
       "        text-align: right;\n",
       "    }\n",
       "</style>\n",
       "<table border=\"1\" class=\"dataframe\">\n",
       "  <thead>\n",
       "    <tr style=\"text-align: right;\">\n",
       "      <th></th>\n",
       "      <th>umur_ibu</th>\n",
       "      <th>gravida</th>\n",
       "      <th>umur_kehamilan</th>\n",
       "      <th>tinggi_badan</th>\n",
       "      <th>tekanan_sistolik</th>\n",
       "      <th>tekanan_diastolik</th>\n",
       "      <th>penyakit_anemia</th>\n",
       "      <th>posisi_janin</th>\n",
       "      <th>hasil_tes_VDRL</th>\n",
       "      <th>hasil_tes_HbsAg</th>\n",
       "      <th>kategori_tekanan_darah</th>\n",
       "      <th>skor_risiko</th>\n",
       "      <th>label_risiko</th>\n",
       "    </tr>\n",
       "  </thead>\n",
       "  <tbody>\n",
       "    <tr>\n",
       "      <th>6</th>\n",
       "      <td>32</td>\n",
       "      <td>4</td>\n",
       "      <td>25</td>\n",
       "      <td>160.02</td>\n",
       "      <td>100</td>\n",
       "      <td>60</td>\n",
       "      <td>Positif</td>\n",
       "      <td>Abnormal</td>\n",
       "      <td>Positif</td>\n",
       "      <td>Negatif</td>\n",
       "      <td>Normal</td>\n",
       "      <td>20</td>\n",
       "      <td>KRST</td>\n",
       "    </tr>\n",
       "    <tr>\n",
       "      <th>8</th>\n",
       "      <td>32</td>\n",
       "      <td>4</td>\n",
       "      <td>26</td>\n",
       "      <td>167.64</td>\n",
       "      <td>145</td>\n",
       "      <td>90</td>\n",
       "      <td>Negatif</td>\n",
       "      <td>Abnormal</td>\n",
       "      <td>Negatif</td>\n",
       "      <td>Positif</td>\n",
       "      <td>Hipertensi Stage 1</td>\n",
       "      <td>16</td>\n",
       "      <td>KRST</td>\n",
       "    </tr>\n",
       "    <tr>\n",
       "      <th>9</th>\n",
       "      <td>32</td>\n",
       "      <td>4</td>\n",
       "      <td>36</td>\n",
       "      <td>160.02</td>\n",
       "      <td>150</td>\n",
       "      <td>100</td>\n",
       "      <td>Negatif</td>\n",
       "      <td>Abnormal</td>\n",
       "      <td>Positif</td>\n",
       "      <td>Negatif</td>\n",
       "      <td>Hipertensi Stage 1</td>\n",
       "      <td>15</td>\n",
       "      <td>KRST</td>\n",
       "    </tr>\n",
       "    <tr>\n",
       "      <th>11</th>\n",
       "      <td>32</td>\n",
       "      <td>4</td>\n",
       "      <td>32</td>\n",
       "      <td>142.24</td>\n",
       "      <td>100</td>\n",
       "      <td>70</td>\n",
       "      <td>Negatif</td>\n",
       "      <td>Normal</td>\n",
       "      <td>Positif</td>\n",
       "      <td>Positif</td>\n",
       "      <td>Normal</td>\n",
       "      <td>15</td>\n",
       "      <td>KRST</td>\n",
       "    </tr>\n",
       "    <tr>\n",
       "      <th>15</th>\n",
       "      <td>32</td>\n",
       "      <td>4</td>\n",
       "      <td>20</td>\n",
       "      <td>154.94</td>\n",
       "      <td>90</td>\n",
       "      <td>60</td>\n",
       "      <td>Negatif</td>\n",
       "      <td>Normal</td>\n",
       "      <td>Positif</td>\n",
       "      <td>Positif</td>\n",
       "      <td>Normal</td>\n",
       "      <td>11</td>\n",
       "      <td>KRST</td>\n",
       "    </tr>\n",
       "    <tr>\n",
       "      <th>23</th>\n",
       "      <td>32</td>\n",
       "      <td>1</td>\n",
       "      <td>25</td>\n",
       "      <td>165.10</td>\n",
       "      <td>110</td>\n",
       "      <td>65</td>\n",
       "      <td>Positif</td>\n",
       "      <td>Normal</td>\n",
       "      <td>Positif</td>\n",
       "      <td>Negatif</td>\n",
       "      <td>Normal</td>\n",
       "      <td>11</td>\n",
       "      <td>KRST</td>\n",
       "    </tr>\n",
       "    <tr>\n",
       "      <th>153</th>\n",
       "      <td>26</td>\n",
       "      <td>2</td>\n",
       "      <td>36</td>\n",
       "      <td>165.10</td>\n",
       "      <td>90</td>\n",
       "      <td>60</td>\n",
       "      <td>Negatif</td>\n",
       "      <td>Normal</td>\n",
       "      <td>Positif</td>\n",
       "      <td>Positif</td>\n",
       "      <td>Normal</td>\n",
       "      <td>11</td>\n",
       "      <td>KRST</td>\n",
       "    </tr>\n",
       "    <tr>\n",
       "      <th>215</th>\n",
       "      <td>25</td>\n",
       "      <td>1</td>\n",
       "      <td>38</td>\n",
       "      <td>154.94</td>\n",
       "      <td>100</td>\n",
       "      <td>65</td>\n",
       "      <td>Positif</td>\n",
       "      <td>Normal</td>\n",
       "      <td>Positif</td>\n",
       "      <td>Positif</td>\n",
       "      <td>Normal</td>\n",
       "      <td>14</td>\n",
       "      <td>KRST</td>\n",
       "    </tr>\n",
       "    <tr>\n",
       "      <th>267</th>\n",
       "      <td>25</td>\n",
       "      <td>1</td>\n",
       "      <td>35</td>\n",
       "      <td>165.10</td>\n",
       "      <td>100</td>\n",
       "      <td>65</td>\n",
       "      <td>Negatif</td>\n",
       "      <td>Normal</td>\n",
       "      <td>Positif</td>\n",
       "      <td>Positif</td>\n",
       "      <td>Normal</td>\n",
       "      <td>11</td>\n",
       "      <td>KRST</td>\n",
       "    </tr>\n",
       "    <tr>\n",
       "      <th>279</th>\n",
       "      <td>25</td>\n",
       "      <td>1</td>\n",
       "      <td>30</td>\n",
       "      <td>152.40</td>\n",
       "      <td>90</td>\n",
       "      <td>60</td>\n",
       "      <td>Negatif</td>\n",
       "      <td>Abnormal</td>\n",
       "      <td>Positif</td>\n",
       "      <td>Negatif</td>\n",
       "      <td>Normal</td>\n",
       "      <td>15</td>\n",
       "      <td>KRST</td>\n",
       "    </tr>\n",
       "    <tr>\n",
       "      <th>302</th>\n",
       "      <td>24</td>\n",
       "      <td>1</td>\n",
       "      <td>24</td>\n",
       "      <td>157.48</td>\n",
       "      <td>90</td>\n",
       "      <td>60</td>\n",
       "      <td>Positif</td>\n",
       "      <td>Normal</td>\n",
       "      <td>Positif</td>\n",
       "      <td>Positif</td>\n",
       "      <td>Normal</td>\n",
       "      <td>12</td>\n",
       "      <td>KRST</td>\n",
       "    </tr>\n",
       "    <tr>\n",
       "      <th>356</th>\n",
       "      <td>24</td>\n",
       "      <td>1</td>\n",
       "      <td>25</td>\n",
       "      <td>157.48</td>\n",
       "      <td>90</td>\n",
       "      <td>60</td>\n",
       "      <td>Positif</td>\n",
       "      <td>Normal</td>\n",
       "      <td>Positif</td>\n",
       "      <td>Positif</td>\n",
       "      <td>Normal</td>\n",
       "      <td>14</td>\n",
       "      <td>KRST</td>\n",
       "    </tr>\n",
       "    <tr>\n",
       "      <th>390</th>\n",
       "      <td>23</td>\n",
       "      <td>1</td>\n",
       "      <td>28</td>\n",
       "      <td>142.24</td>\n",
       "      <td>90</td>\n",
       "      <td>60</td>\n",
       "      <td>Negatif</td>\n",
       "      <td>Abnormal</td>\n",
       "      <td>Positif</td>\n",
       "      <td>Positif</td>\n",
       "      <td>Normal</td>\n",
       "      <td>19</td>\n",
       "      <td>KRST</td>\n",
       "    </tr>\n",
       "    <tr>\n",
       "      <th>504</th>\n",
       "      <td>22</td>\n",
       "      <td>1</td>\n",
       "      <td>30</td>\n",
       "      <td>142.24</td>\n",
       "      <td>100</td>\n",
       "      <td>65</td>\n",
       "      <td>Negatif</td>\n",
       "      <td>Abnormal</td>\n",
       "      <td>Positif</td>\n",
       "      <td>Positif</td>\n",
       "      <td>Normal</td>\n",
       "      <td>18</td>\n",
       "      <td>KRST</td>\n",
       "    </tr>\n",
       "    <tr>\n",
       "      <th>581</th>\n",
       "      <td>22</td>\n",
       "      <td>1</td>\n",
       "      <td>25</td>\n",
       "      <td>152.40</td>\n",
       "      <td>110</td>\n",
       "      <td>60</td>\n",
       "      <td>Positif</td>\n",
       "      <td>Normal</td>\n",
       "      <td>Positif</td>\n",
       "      <td>Positif</td>\n",
       "      <td>Normal</td>\n",
       "      <td>14</td>\n",
       "      <td>KRST</td>\n",
       "    </tr>\n",
       "    <tr>\n",
       "      <th>716</th>\n",
       "      <td>20</td>\n",
       "      <td>1</td>\n",
       "      <td>25</td>\n",
       "      <td>162.56</td>\n",
       "      <td>90</td>\n",
       "      <td>60</td>\n",
       "      <td>Negatif</td>\n",
       "      <td>Abnormal</td>\n",
       "      <td>Positif</td>\n",
       "      <td>Positif</td>\n",
       "      <td>Normal</td>\n",
       "      <td>14</td>\n",
       "      <td>KRST</td>\n",
       "    </tr>\n",
       "    <tr>\n",
       "      <th>720</th>\n",
       "      <td>20</td>\n",
       "      <td>1</td>\n",
       "      <td>30</td>\n",
       "      <td>160.02</td>\n",
       "      <td>100</td>\n",
       "      <td>60</td>\n",
       "      <td>Positif</td>\n",
       "      <td>Abnormal</td>\n",
       "      <td>Negatif</td>\n",
       "      <td>Positif</td>\n",
       "      <td>Normal</td>\n",
       "      <td>15</td>\n",
       "      <td>KRST</td>\n",
       "    </tr>\n",
       "    <tr>\n",
       "      <th>811</th>\n",
       "      <td>19</td>\n",
       "      <td>1</td>\n",
       "      <td>25</td>\n",
       "      <td>154.94</td>\n",
       "      <td>110</td>\n",
       "      <td>60</td>\n",
       "      <td>Positif</td>\n",
       "      <td>Normal</td>\n",
       "      <td>Positif</td>\n",
       "      <td>Negatif</td>\n",
       "      <td>Normal</td>\n",
       "      <td>11</td>\n",
       "      <td>KRST</td>\n",
       "    </tr>\n",
       "    <tr>\n",
       "      <th>849</th>\n",
       "      <td>19</td>\n",
       "      <td>1</td>\n",
       "      <td>20</td>\n",
       "      <td>142.24</td>\n",
       "      <td>110</td>\n",
       "      <td>60</td>\n",
       "      <td>Negatif</td>\n",
       "      <td>Abnormal</td>\n",
       "      <td>Positif</td>\n",
       "      <td>Positif</td>\n",
       "      <td>Normal</td>\n",
       "      <td>22</td>\n",
       "      <td>KRST</td>\n",
       "    </tr>\n",
       "    <tr>\n",
       "      <th>947</th>\n",
       "      <td>18</td>\n",
       "      <td>2</td>\n",
       "      <td>30</td>\n",
       "      <td>162.56</td>\n",
       "      <td>100</td>\n",
       "      <td>60</td>\n",
       "      <td>Negatif</td>\n",
       "      <td>Abnormal</td>\n",
       "      <td>Negatif</td>\n",
       "      <td>Positif</td>\n",
       "      <td>Normal</td>\n",
       "      <td>13</td>\n",
       "      <td>KRST</td>\n",
       "    </tr>\n",
       "    <tr>\n",
       "      <th>987</th>\n",
       "      <td>18</td>\n",
       "      <td>1</td>\n",
       "      <td>20</td>\n",
       "      <td>165.10</td>\n",
       "      <td>90</td>\n",
       "      <td>60</td>\n",
       "      <td>Positif</td>\n",
       "      <td>Normal</td>\n",
       "      <td>Positif</td>\n",
       "      <td>Positif</td>\n",
       "      <td>Normal</td>\n",
       "      <td>12</td>\n",
       "      <td>KRST</td>\n",
       "    </tr>\n",
       "    <tr>\n",
       "      <th>989</th>\n",
       "      <td>17</td>\n",
       "      <td>2</td>\n",
       "      <td>25</td>\n",
       "      <td>162.56</td>\n",
       "      <td>110</td>\n",
       "      <td>80</td>\n",
       "      <td>Positif</td>\n",
       "      <td>Abnormal</td>\n",
       "      <td>Positif</td>\n",
       "      <td>Negatif</td>\n",
       "      <td>Prehipertensi</td>\n",
       "      <td>18</td>\n",
       "      <td>KRST</td>\n",
       "    </tr>\n",
       "    <tr>\n",
       "      <th>990</th>\n",
       "      <td>17</td>\n",
       "      <td>1</td>\n",
       "      <td>35</td>\n",
       "      <td>154.94</td>\n",
       "      <td>120</td>\n",
       "      <td>60</td>\n",
       "      <td>Positif</td>\n",
       "      <td>Abnormal</td>\n",
       "      <td>Negatif</td>\n",
       "      <td>Negatif</td>\n",
       "      <td>Prehipertensi</td>\n",
       "      <td>12</td>\n",
       "      <td>KRST</td>\n",
       "    </tr>\n",
       "    <tr>\n",
       "      <th>992</th>\n",
       "      <td>17</td>\n",
       "      <td>1</td>\n",
       "      <td>23</td>\n",
       "      <td>142.24</td>\n",
       "      <td>100</td>\n",
       "      <td>60</td>\n",
       "      <td>Negatif</td>\n",
       "      <td>Abnormal</td>\n",
       "      <td>Negatif</td>\n",
       "      <td>Negatif</td>\n",
       "      <td>Normal</td>\n",
       "      <td>16</td>\n",
       "      <td>KRST</td>\n",
       "    </tr>\n",
       "    <tr>\n",
       "      <th>993</th>\n",
       "      <td>17</td>\n",
       "      <td>1</td>\n",
       "      <td>28</td>\n",
       "      <td>160.02</td>\n",
       "      <td>90</td>\n",
       "      <td>60</td>\n",
       "      <td>Positif</td>\n",
       "      <td>Abnormal</td>\n",
       "      <td>Positif</td>\n",
       "      <td>Positif</td>\n",
       "      <td>Normal</td>\n",
       "      <td>22</td>\n",
       "      <td>KRST</td>\n",
       "    </tr>\n",
       "    <tr>\n",
       "      <th>995</th>\n",
       "      <td>17</td>\n",
       "      <td>1</td>\n",
       "      <td>35</td>\n",
       "      <td>167.64</td>\n",
       "      <td>100</td>\n",
       "      <td>70</td>\n",
       "      <td>Positif</td>\n",
       "      <td>Abnormal</td>\n",
       "      <td>Negatif</td>\n",
       "      <td>Negatif</td>\n",
       "      <td>Normal</td>\n",
       "      <td>16</td>\n",
       "      <td>KRST</td>\n",
       "    </tr>\n",
       "    <tr>\n",
       "      <th>996</th>\n",
       "      <td>17</td>\n",
       "      <td>1</td>\n",
       "      <td>35</td>\n",
       "      <td>142.24</td>\n",
       "      <td>110</td>\n",
       "      <td>80</td>\n",
       "      <td>Positif</td>\n",
       "      <td>Normal</td>\n",
       "      <td>Negatif</td>\n",
       "      <td>Negatif</td>\n",
       "      <td>Prehipertensi</td>\n",
       "      <td>12</td>\n",
       "      <td>KRST</td>\n",
       "    </tr>\n",
       "    <tr>\n",
       "      <th>997</th>\n",
       "      <td>17</td>\n",
       "      <td>1</td>\n",
       "      <td>20</td>\n",
       "      <td>142.24</td>\n",
       "      <td>120</td>\n",
       "      <td>60</td>\n",
       "      <td>Positif</td>\n",
       "      <td>Normal</td>\n",
       "      <td>Positif</td>\n",
       "      <td>Negatif</td>\n",
       "      <td>Prehipertensi</td>\n",
       "      <td>11</td>\n",
       "      <td>KRST</td>\n",
       "    </tr>\n",
       "  </tbody>\n",
       "</table>\n",
       "</div>"
      ],
      "text/plain": [
       "     umur_ibu  gravida  umur_kehamilan  tinggi_badan  tekanan_sistolik  \\\n",
       "6          32        4              25        160.02               100   \n",
       "8          32        4              26        167.64               145   \n",
       "9          32        4              36        160.02               150   \n",
       "11         32        4              32        142.24               100   \n",
       "15         32        4              20        154.94                90   \n",
       "23         32        1              25        165.10               110   \n",
       "153        26        2              36        165.10                90   \n",
       "215        25        1              38        154.94               100   \n",
       "267        25        1              35        165.10               100   \n",
       "279        25        1              30        152.40                90   \n",
       "302        24        1              24        157.48                90   \n",
       "356        24        1              25        157.48                90   \n",
       "390        23        1              28        142.24                90   \n",
       "504        22        1              30        142.24               100   \n",
       "581        22        1              25        152.40               110   \n",
       "716        20        1              25        162.56                90   \n",
       "720        20        1              30        160.02               100   \n",
       "811        19        1              25        154.94               110   \n",
       "849        19        1              20        142.24               110   \n",
       "947        18        2              30        162.56               100   \n",
       "987        18        1              20        165.10                90   \n",
       "989        17        2              25        162.56               110   \n",
       "990        17        1              35        154.94               120   \n",
       "992        17        1              23        142.24               100   \n",
       "993        17        1              28        160.02                90   \n",
       "995        17        1              35        167.64               100   \n",
       "996        17        1              35        142.24               110   \n",
       "997        17        1              20        142.24               120   \n",
       "\n",
       "     tekanan_diastolik penyakit_anemia posisi_janin hasil_tes_VDRL  \\\n",
       "6                   60         Positif     Abnormal        Positif   \n",
       "8                   90         Negatif     Abnormal        Negatif   \n",
       "9                  100         Negatif     Abnormal        Positif   \n",
       "11                  70         Negatif       Normal        Positif   \n",
       "15                  60         Negatif       Normal        Positif   \n",
       "23                  65         Positif       Normal        Positif   \n",
       "153                 60         Negatif       Normal        Positif   \n",
       "215                 65         Positif       Normal        Positif   \n",
       "267                 65         Negatif       Normal        Positif   \n",
       "279                 60         Negatif     Abnormal        Positif   \n",
       "302                 60         Positif       Normal        Positif   \n",
       "356                 60         Positif       Normal        Positif   \n",
       "390                 60         Negatif     Abnormal        Positif   \n",
       "504                 65         Negatif     Abnormal        Positif   \n",
       "581                 60         Positif       Normal        Positif   \n",
       "716                 60         Negatif     Abnormal        Positif   \n",
       "720                 60         Positif     Abnormal        Negatif   \n",
       "811                 60         Positif       Normal        Positif   \n",
       "849                 60         Negatif     Abnormal        Positif   \n",
       "947                 60         Negatif     Abnormal        Negatif   \n",
       "987                 60         Positif       Normal        Positif   \n",
       "989                 80         Positif     Abnormal        Positif   \n",
       "990                 60         Positif     Abnormal        Negatif   \n",
       "992                 60         Negatif     Abnormal        Negatif   \n",
       "993                 60         Positif     Abnormal        Positif   \n",
       "995                 70         Positif     Abnormal        Negatif   \n",
       "996                 80         Positif       Normal        Negatif   \n",
       "997                 60         Positif       Normal        Positif   \n",
       "\n",
       "    hasil_tes_HbsAg kategori_tekanan_darah  skor_risiko label_risiko  \n",
       "6           Negatif                 Normal           20         KRST  \n",
       "8           Positif     Hipertensi Stage 1           16         KRST  \n",
       "9           Negatif     Hipertensi Stage 1           15         KRST  \n",
       "11          Positif                 Normal           15         KRST  \n",
       "15          Positif                 Normal           11         KRST  \n",
       "23          Negatif                 Normal           11         KRST  \n",
       "153         Positif                 Normal           11         KRST  \n",
       "215         Positif                 Normal           14         KRST  \n",
       "267         Positif                 Normal           11         KRST  \n",
       "279         Negatif                 Normal           15         KRST  \n",
       "302         Positif                 Normal           12         KRST  \n",
       "356         Positif                 Normal           14         KRST  \n",
       "390         Positif                 Normal           19         KRST  \n",
       "504         Positif                 Normal           18         KRST  \n",
       "581         Positif                 Normal           14         KRST  \n",
       "716         Positif                 Normal           14         KRST  \n",
       "720         Positif                 Normal           15         KRST  \n",
       "811         Negatif                 Normal           11         KRST  \n",
       "849         Positif                 Normal           22         KRST  \n",
       "947         Positif                 Normal           13         KRST  \n",
       "987         Positif                 Normal           12         KRST  \n",
       "989         Negatif          Prehipertensi           18         KRST  \n",
       "990         Negatif          Prehipertensi           12         KRST  \n",
       "992         Negatif                 Normal           16         KRST  \n",
       "993         Positif                 Normal           22         KRST  \n",
       "995         Negatif                 Normal           16         KRST  \n",
       "996         Negatif          Prehipertensi           12         KRST  \n",
       "997         Negatif          Prehipertensi           11         KRST  "
      ]
     },
     "execution_count": 40,
     "metadata": {},
     "output_type": "execute_result"
    }
   ],
   "source": [
    "pregnancydf[pregnancydf['label_risiko'] == 'KRST']"
   ]
  },
  {
   "cell_type": "markdown",
   "id": "3fa31139",
   "metadata": {
    "id": "3fa31139"
   },
   "source": [
    "##### Interpretasi\n",
    "- Setiap variabel memiliki korelasi sempurna terhadap dirinya sendiri dengan nilai 1,00, sebagaimana dapat diharapkan.\n",
    "\n",
    "- Korelasi antara umur_ibu dan gravida sebesar 0,19 menunjukkan hubungan positif yang sangat lemah, mengindikasikan bahwa peningkatan usia ibu memiliki kecenderungan yang sangat kecil terhadap peningkatan jumlah kehamilan.\n",
    "\n",
    "- Korelasi antara variabel tekanan_sistolik dan tekanan_diastolik sebesar 0,27 menunjukkan hubungan positif rendah. Secara klinis, hal ini dapat dimengerti karena peningkatan tekanan darah sistolik umumnya diikuti dengan peningkatan tekanan darah diastolik, meskipun dalam dataset ini hubungan tersebut tidak cukup kuat.\n",
    "\n",
    "- Korelasi antara variabel lainnya, seperti umur_kehamilan, tinggi_badan, dan tekanan darah terhadap variabel lain, cenderung mendekati nol, menunjukkan bahwa tidak terdapat hubungan linear yang signifikan di antara fitur-fitur tersebut."
   ]
  },
  {
   "cell_type": "code",
   "execution_count": 41,
   "id": "2cfaa99d",
   "metadata": {
    "executionInfo": {
     "elapsed": 26,
     "status": "ok",
     "timestamp": 1746862131073,
     "user": {
      "displayName": "Dyah Megawati",
      "userId": "05129674134829867442"
     },
     "user_tz": -420
    },
    "id": "2cfaa99d"
   },
   "outputs": [],
   "source": [
    "# Label encoding ada urutan dr hipotensi -> hipertensi stage 2\n",
    "encoder = preprocessing.LabelEncoder()\n",
    "pregnancydf['kategori_tekanan_darah'] = encoder.fit_transform(pregnancydf['kategori_tekanan_darah'])\n",
    "\n",
    "# One hot encoding krn tidak ada urutannya\n",
    "pregnancydf = pd.get_dummies(pregnancydf, columns=['penyakit_anemia', 'posisi_janin', 'hasil_tes_VDRL', 'hasil_tes_HbsAg'])"
   ]
  },
  {
   "cell_type": "code",
   "execution_count": 42,
   "id": "af51d46d",
   "metadata": {
    "colab": {
     "base_uri": "https://localhost:8080/",
     "height": 226
    },
    "executionInfo": {
     "elapsed": 56,
     "status": "ok",
     "timestamp": 1746862135107,
     "user": {
      "displayName": "Dyah Megawati",
      "userId": "05129674134829867442"
     },
     "user_tz": -420
    },
    "id": "af51d46d",
    "outputId": "f41133bc-5f66-4aeb-be0d-f232afa596b9"
   },
   "outputs": [
    {
     "data": {
      "text/html": [
       "<div>\n",
       "<style scoped>\n",
       "    .dataframe tbody tr th:only-of-type {\n",
       "        vertical-align: middle;\n",
       "    }\n",
       "\n",
       "    .dataframe tbody tr th {\n",
       "        vertical-align: top;\n",
       "    }\n",
       "\n",
       "    .dataframe thead th {\n",
       "        text-align: right;\n",
       "    }\n",
       "</style>\n",
       "<table border=\"1\" class=\"dataframe\">\n",
       "  <thead>\n",
       "    <tr style=\"text-align: right;\">\n",
       "      <th></th>\n",
       "      <th>umur_ibu</th>\n",
       "      <th>gravida</th>\n",
       "      <th>umur_kehamilan</th>\n",
       "      <th>tinggi_badan</th>\n",
       "      <th>tekanan_sistolik</th>\n",
       "      <th>tekanan_diastolik</th>\n",
       "      <th>kategori_tekanan_darah</th>\n",
       "      <th>skor_risiko</th>\n",
       "      <th>label_risiko</th>\n",
       "      <th>penyakit_anemia_Negatif</th>\n",
       "      <th>penyakit_anemia_Positif</th>\n",
       "      <th>posisi_janin_Abnormal</th>\n",
       "      <th>posisi_janin_Normal</th>\n",
       "      <th>hasil_tes_VDRL_Negatif</th>\n",
       "      <th>hasil_tes_VDRL_Positif</th>\n",
       "      <th>hasil_tes_HbsAg_Negatif</th>\n",
       "      <th>hasil_tes_HbsAg_Positif</th>\n",
       "    </tr>\n",
       "  </thead>\n",
       "  <tbody>\n",
       "    <tr>\n",
       "      <th>0</th>\n",
       "      <td>32</td>\n",
       "      <td>3</td>\n",
       "      <td>23</td>\n",
       "      <td>160.02</td>\n",
       "      <td>90</td>\n",
       "      <td>60</td>\n",
       "      <td>2</td>\n",
       "      <td>2</td>\n",
       "      <td>KRR</td>\n",
       "      <td>True</td>\n",
       "      <td>False</td>\n",
       "      <td>False</td>\n",
       "      <td>True</td>\n",
       "      <td>True</td>\n",
       "      <td>False</td>\n",
       "      <td>True</td>\n",
       "      <td>False</td>\n",
       "    </tr>\n",
       "    <tr>\n",
       "      <th>1</th>\n",
       "      <td>25</td>\n",
       "      <td>2</td>\n",
       "      <td>38</td>\n",
       "      <td>157.48</td>\n",
       "      <td>100</td>\n",
       "      <td>70</td>\n",
       "      <td>2</td>\n",
       "      <td>6</td>\n",
       "      <td>KRT</td>\n",
       "      <td>True</td>\n",
       "      <td>False</td>\n",
       "      <td>False</td>\n",
       "      <td>True</td>\n",
       "      <td>False</td>\n",
       "      <td>True</td>\n",
       "      <td>True</td>\n",
       "      <td>False</td>\n",
       "    </tr>\n",
       "    <tr>\n",
       "      <th>2</th>\n",
       "      <td>32</td>\n",
       "      <td>3</td>\n",
       "      <td>30</td>\n",
       "      <td>152.40</td>\n",
       "      <td>100</td>\n",
       "      <td>60</td>\n",
       "      <td>2</td>\n",
       "      <td>6</td>\n",
       "      <td>KRT</td>\n",
       "      <td>False</td>\n",
       "      <td>True</td>\n",
       "      <td>False</td>\n",
       "      <td>True</td>\n",
       "      <td>True</td>\n",
       "      <td>False</td>\n",
       "      <td>True</td>\n",
       "      <td>False</td>\n",
       "    </tr>\n",
       "    <tr>\n",
       "      <th>3</th>\n",
       "      <td>32</td>\n",
       "      <td>2</td>\n",
       "      <td>25</td>\n",
       "      <td>162.56</td>\n",
       "      <td>100</td>\n",
       "      <td>65</td>\n",
       "      <td>2</td>\n",
       "      <td>3</td>\n",
       "      <td>KRR</td>\n",
       "      <td>True</td>\n",
       "      <td>False</td>\n",
       "      <td>False</td>\n",
       "      <td>True</td>\n",
       "      <td>False</td>\n",
       "      <td>True</td>\n",
       "      <td>True</td>\n",
       "      <td>False</td>\n",
       "    </tr>\n",
       "    <tr>\n",
       "      <th>4</th>\n",
       "      <td>20</td>\n",
       "      <td>1</td>\n",
       "      <td>30</td>\n",
       "      <td>157.48</td>\n",
       "      <td>100</td>\n",
       "      <td>55</td>\n",
       "      <td>1</td>\n",
       "      <td>3</td>\n",
       "      <td>KRR</td>\n",
       "      <td>True</td>\n",
       "      <td>False</td>\n",
       "      <td>False</td>\n",
       "      <td>True</td>\n",
       "      <td>True</td>\n",
       "      <td>False</td>\n",
       "      <td>True</td>\n",
       "      <td>False</td>\n",
       "    </tr>\n",
       "  </tbody>\n",
       "</table>\n",
       "</div>"
      ],
      "text/plain": [
       "   umur_ibu  gravida  umur_kehamilan  tinggi_badan  tekanan_sistolik  \\\n",
       "0        32        3              23        160.02                90   \n",
       "1        25        2              38        157.48               100   \n",
       "2        32        3              30        152.40               100   \n",
       "3        32        2              25        162.56               100   \n",
       "4        20        1              30        157.48               100   \n",
       "\n",
       "   tekanan_diastolik  kategori_tekanan_darah  skor_risiko label_risiko  \\\n",
       "0                 60                       2            2          KRR   \n",
       "1                 70                       2            6          KRT   \n",
       "2                 60                       2            6          KRT   \n",
       "3                 65                       2            3          KRR   \n",
       "4                 55                       1            3          KRR   \n",
       "\n",
       "   penyakit_anemia_Negatif  penyakit_anemia_Positif  posisi_janin_Abnormal  \\\n",
       "0                     True                    False                  False   \n",
       "1                     True                    False                  False   \n",
       "2                    False                     True                  False   \n",
       "3                     True                    False                  False   \n",
       "4                     True                    False                  False   \n",
       "\n",
       "   posisi_janin_Normal  hasil_tes_VDRL_Negatif  hasil_tes_VDRL_Positif  \\\n",
       "0                 True                    True                   False   \n",
       "1                 True                   False                    True   \n",
       "2                 True                    True                   False   \n",
       "3                 True                   False                    True   \n",
       "4                 True                    True                   False   \n",
       "\n",
       "   hasil_tes_HbsAg_Negatif  hasil_tes_HbsAg_Positif  \n",
       "0                     True                    False  \n",
       "1                     True                    False  \n",
       "2                     True                    False  \n",
       "3                     True                    False  \n",
       "4                     True                    False  "
      ]
     },
     "execution_count": 42,
     "metadata": {},
     "output_type": "execute_result"
    }
   ],
   "source": [
    "pregnancydf.head()"
   ]
  },
  {
   "cell_type": "code",
   "execution_count": 43,
   "id": "b292b244",
   "metadata": {},
   "outputs": [],
   "source": [
    "# pregnancydf.to_csv('preprocessed_data.csv', index=False)"
   ]
  },
  {
   "cell_type": "code",
   "execution_count": 44,
   "id": "a72caabe",
   "metadata": {
    "colab": {
     "base_uri": "https://localhost:8080/",
     "height": 855
    },
    "executionInfo": {
     "elapsed": 604,
     "status": "ok",
     "timestamp": 1746862144935,
     "user": {
      "displayName": "Dyah Megawati",
      "userId": "05129674134829867442"
     },
     "user_tz": -420
    },
    "id": "a72caabe",
    "outputId": "cd61bb13-adc0-409a-b1e9-ac8f94ae5714"
   },
   "outputs": [
    {
     "data": {
      "image/png": "[encoded data removed]",
      "text/plain": [
       "<Figure size 1000x800 with 2 Axes>"
      ]
     },
     "metadata": {},
     "output_type": "display_data"
    }
   ],
   "source": [
    "# Salin dataframe agar tidak mengubah aslinya\n",
    "df_corr = pregnancydf.copy()\n",
    "\n",
    "# Drop kolom kategorikal (jika ada) agar hanya kolom numerik yang dianalisis korelasinya\n",
    "kolom_kategorikal = ['label_risiko']\n",
    "for kolom in kolom_kategorikal:\n",
    "    if kolom in df_corr.columns:\n",
    "        df_corr = df_corr.drop(columns=kolom)\n",
    "\n",
    "# Filter kolom numerik\n",
    "numerik_df = df_corr.select_dtypes(include=['int', 'float'])\n",
    "\n",
    "# Hitung korelasi\n",
    "corr = numerik_df.corr()\n",
    "\n",
    "# Tampilkan heatmap\n",
    "plt.figure(figsize=(10, 8))\n",
    "sns.heatmap(corr, annot=True, cmap='coolwarm', fmt=\".2f\", linewidths=0.5)\n",
    "plt.title('Heatmap Korelasi Fitur Numerik', fontweight='bold', fontsize=16)\n",
    "plt.show()\n"
   ]
  },
  {
   "cell_type": "markdown",
   "id": "d9087b74",
   "metadata": {
    "id": "d9087b74"
   },
   "source": [
    "#### Data Splitting"
   ]
  },
  {
   "cell_type": "code",
   "execution_count": 45,
   "id": "48f614a8",
   "metadata": {
    "colab": {
     "base_uri": "https://localhost:8080/"
    },
    "executionInfo": {
     "elapsed": 20,
     "status": "ok",
     "timestamp": 1746862154934,
     "user": {
      "displayName": "Dyah Megawati",
      "userId": "05129674134829867442"
     },
     "user_tz": -420
    },
    "id": "48f614a8",
    "outputId": "42f17e63-5be4-4698-81cf-264da1080e86"
   },
   "outputs": [
    {
     "name": "stdout",
     "output_type": "stream",
     "text": [
      "Train shape:     X=(764, 13), y=(764,)\n",
      "Test shape:      X=(192, 13), y=(192,)\n"
     ]
    }
   ],
   "source": [
    "# Drop fitur yang ngga dipakai\n",
    "drop_columns = ['tekanan_sistolik', 'tekanan_diastolik', 'skor_risiko', 'label_risiko']\n",
    "X = pregnancydf.drop(columns=drop_columns)\n",
    "\n",
    "# Target variabel\n",
    "y = pregnancydf['label_risiko']\n",
    "\n",
    "# --- Split Data ---\n",
    "\n",
    "# Bagi data menjadi data latih dan data uji\n",
    "X_train, X_test, y_train, y_test = train_test_split(\n",
    "    X, y, test_size=0.2, random_state=42, stratify=y\n",
    ")\n",
    "\n",
    "# Tampilkan bentuk data\n",
    "print(f\"Train shape:     X={X_train.shape}, y={y_train.shape}\")\n",
    "# print(f\"Validation shape: X={X_val.shape}, y={y_val.shape}\")\n",
    "print(f\"Test shape:      X={X_test.shape}, y={y_test.shape}\")"
   ]
  },
  {
   "cell_type": "code",
   "execution_count": 46,
   "id": "c5be11c7",
   "metadata": {},
   "outputs": [
    {
     "name": "stdout",
     "output_type": "stream",
     "text": [
      "['umur_ibu', 'gravida', 'umur_kehamilan', 'tinggi_badan', 'kategori_tekanan_darah', 'penyakit_anemia_Negatif', 'penyakit_anemia_Positif', 'posisi_janin_Abnormal', 'posisi_janin_Normal', 'hasil_tes_VDRL_Negatif', 'hasil_tes_VDRL_Positif', 'hasil_tes_HbsAg_Negatif', 'hasil_tes_HbsAg_Positif']\n"
     ]
    }
   ],
   "source": [
    "print(X_train.columns.tolist())"
   ]
  },
  {
   "cell_type": "markdown",
   "id": "971032d9",
   "metadata": {
    "id": "971032d9"
   },
   "source": [
    "#### Resampling Data for Imbalance Dataset"
   ]
  },
  {
   "cell_type": "markdown",
   "id": "286e7bf8",
   "metadata": {
    "id": "286e7bf8"
   },
   "source": [
    "#### Model Deployment"
   ]
  },
  {
   "cell_type": "code",
   "execution_count": 47,
   "id": "d667ef3d",
   "metadata": {
    "colab": {
     "base_uri": "https://localhost:8080/"
    },
    "executionInfo": {
     "elapsed": 103,
     "status": "ok",
     "timestamp": 1746862194489,
     "user": {
      "displayName": "Dyah Megawati",
      "userId": "05129674134829867442"
     },
     "user_tz": -420
    },
    "id": "d667ef3d",
    "outputId": "ce88929d-bc1d-4d8f-93cf-a49e1b957580"
   },
   "outputs": [
    {
     "name": "stdout",
     "output_type": "stream",
     "text": [
      "\n",
      "Hasil Prediksi pada Data Uji:\n",
      "Predictions: ['KRT' 'KRT' 'KRR' 'KRT' 'KRT' 'KRT' 'KRR' 'KRT' 'KRR' 'KRR' 'KRR' 'KRR'\n",
      " 'KRR' 'KRT' 'KRT' 'KRT' 'KRR' 'KRST' 'KRST' 'KRR' 'KRT' 'KRT' 'KRT' 'KRT'\n",
      " 'KRR' 'KRT' 'KRT' 'KRR' 'KRR' 'KRT' 'KRR' 'KRR' 'KRT' 'KRR' 'KRT' 'KRST'\n",
      " 'KRT' 'KRR' 'KRT' 'KRR' 'KRR' 'KRT' 'KRR' 'KRR' 'KRR' 'KRT' 'KRT' 'KRT'\n",
      " 'KRR' 'KRT' 'KRT' 'KRT' 'KRT' 'KRR' 'KRST' 'KRR' 'KRT' 'KRST' 'KRT' 'KRT'\n",
      " 'KRR' 'KRST' 'KRT' 'KRT' 'KRR' 'KRR' 'KRR' 'KRST' 'KRT' 'KRT' 'KRT' 'KRT'\n",
      " 'KRT' 'KRT' 'KRT' 'KRR' 'KRR' 'KRT' 'KRT' 'KRT' 'KRR' 'KRR' 'KRT' 'KRR'\n",
      " 'KRT' 'KRT' 'KRST' 'KRT' 'KRR' 'KRT' 'KRR' 'KRR' 'KRT' 'KRT' 'KRR' 'KRT'\n",
      " 'KRT' 'KRR' 'KRR' 'KRST' 'KRT' 'KRR' 'KRT' 'KRT' 'KRT' 'KRT' 'KRT' 'KRT'\n",
      " 'KRT' 'KRR' 'KRT' 'KRR' 'KRT' 'KRR' 'KRT' 'KRT' 'KRR' 'KRT' 'KRR' 'KRT'\n",
      " 'KRT' 'KRR' 'KRT' 'KRR' 'KRT' 'KRT' 'KRT' 'KRR' 'KRT' 'KRST' 'KRT' 'KRR'\n",
      " 'KRST' 'KRT' 'KRST' 'KRR' 'KRT' 'KRT' 'KRR' 'KRR' 'KRT' 'KRT' 'KRT' 'KRR'\n",
      " 'KRR' 'KRT' 'KRT' 'KRR' 'KRT' 'KRT' 'KRT' 'KRR' 'KRR' 'KRR' 'KRST' 'KRR'\n",
      " 'KRR' 'KRT' 'KRR' 'KRT' 'KRR' 'KRT' 'KRR' 'KRT' 'KRR' 'KRR' 'KRR' 'KRST'\n",
      " 'KRR' 'KRR' 'KRT' 'KRT' 'KRR' 'KRR' 'KRST' 'KRT' 'KRR' 'KRT' 'KRR' 'KRT'\n",
      " 'KRR' 'KRR' 'KRST' 'KRT' 'KRR' 'KRR' 'KRST' 'KRT' 'KRT' 'KRR' 'KRR' 'KRT']\n"
     ]
    }
   ],
   "source": [
    "# Inisialisasi model Decision Tree\n",
    "model = DecisionTreeClassifier(max_depth = 3, random_state=42, class_weight = \"balanced\")\n",
    "\n",
    "# --- Pelatihan Model ---\n",
    "# Latih model pada seluruh data latih\n",
    "model.fit(X_train, y_train)\n",
    "\n",
    "# Prediksi pada data uji\n",
    "y_pred = model.predict(X_test)\n",
    "\n",
    "# Tampilkan hasil prediksi\n",
    "print(\"\\nHasil Prediksi pada Data Uji:\")\n",
    "print(f'Predictions: {y_pred}')\n"
   ]
  },
  {
   "cell_type": "code",
   "execution_count": 48,
   "id": "i6sc1RL30_LV",
   "metadata": {
    "colab": {
     "base_uri": "https://localhost:8080/"
    },
    "executionInfo": {
     "elapsed": 50,
     "status": "ok",
     "timestamp": 1746862199095,
     "user": {
      "displayName": "Dyah Megawati",
      "userId": "05129674134829867442"
     },
     "user_tz": -420
    },
    "id": "i6sc1RL30_LV",
    "outputId": "56be0b11-44d7-49c5-c038-fb41252d9c43"
   },
   "outputs": [
    {
     "name": "stdout",
     "output_type": "stream",
     "text": [
      "Train Accuracy: 0.7107329842931938\n",
      "Test Accuracy: 0.6458333333333334\n"
     ]
    }
   ],
   "source": [
    "# Evaluasi di training set\n",
    "y_train_pred = model.predict(X_train)\n",
    "print(\"Train Accuracy:\", accuracy_score(y_train, y_train_pred))\n",
    "\n",
    "# Evaluasi di test set\n",
    "y_test_pred = model.predict(X_test)\n",
    "print(\"Test Accuracy:\", accuracy_score(y_test, y_test_pred))"
   ]
  },
  {
   "cell_type": "code",
   "execution_count": 49,
   "id": "ughqDpMMxh1-",
   "metadata": {
    "colab": {
     "base_uri": "https://localhost:8080/"
    },
    "executionInfo": {
     "elapsed": 37,
     "status": "ok",
     "timestamp": 1746862200788,
     "user": {
      "displayName": "Dyah Megawati",
      "userId": "05129674134829867442"
     },
     "user_tz": -420
    },
    "id": "ughqDpMMxh1-",
    "outputId": "5d6d9f38-e849-4ee2-c28a-468c7eaefebb"
   },
   "outputs": [
    {
     "name": "stdout",
     "output_type": "stream",
     "text": [
      "\n",
      "Model Evaluation Metrics:\n",
      "Accuracy: 0.6458333333333334\n",
      "Precision: 0.7549575986223197\n",
      "Recall: 0.6458333333333334\n",
      "F1-score: 0.6660548644771541\n",
      "              precision    recall  f1-score   support\n",
      "\n",
      "         KRR       0.92      0.60      0.72       121\n",
      "        KRST       0.29      0.83      0.43         6\n",
      "         KRT       0.48      0.72      0.58        65\n",
      "\n",
      "    accuracy                           0.65       192\n",
      "   macro avg       0.57      0.72      0.58       192\n",
      "weighted avg       0.75      0.65      0.67       192\n",
      "\n"
     ]
    },
    {
     "data": {
      "image/png": "[encoded data removed]",
      "text/plain": [
       "<Figure size 600x500 with 2 Axes>"
      ]
     },
     "metadata": {},
     "output_type": "display_data"
    }
   ],
   "source": [
    "# --- Model Evaluation ---\n",
    "accuracy = accuracy_score(y_test, y_pred)\n",
    "precision = precision_score(y_test, y_pred, average='weighted') # Use weighted average for multi-class\n",
    "recall = recall_score(y_test, y_pred, average='weighted') # Use weighted average for multi-class\n",
    "f1 = f1_score(y_test, y_pred, average='weighted') # Use weighted average for multi-class\n",
    "\n",
    "print(\"\\nModel Evaluation Metrics:\")\n",
    "print(f\"Accuracy: {accuracy}\")\n",
    "print(f\"Precision: {precision}\")\n",
    "print(f\"Recall: {recall}\")\n",
    "print(f\"F1-score: {f1}\")\n",
    "\n",
    "# You can also use classification_report for a more comprehensive report:\n",
    "from sklearn.metrics import classification_report\n",
    "print(classification_report(y_test, y_pred))\n",
    "\n",
    "# Confusion Matrix\n",
    "plt.figure(figsize=(6, 5))\n",
    "sns.heatmap(confusion_matrix(y_test, y_pred), annot=True, fmt=\"d\", cmap=\"Blues\",\n",
    "            xticklabels=model.classes_, yticklabels=model.classes_)\n",
    "plt.title('Confusion Matrix')\n",
    "plt.xlabel('Predicted')\n",
    "plt.ylabel('True')\n",
    "plt.show()\n"
   ]
  },
  {
   "cell_type": "markdown",
   "id": "841bf902",
   "metadata": {
    "id": "841bf902"
   },
   "source": [
    "##### Interpretasi\n",
    "- model Decision Tree mampu mengklasifikasikan seluruh data uji ke dalam kategori risiko kehamilan yang benar tanpa kesalahan prediksi\n",
    "- Semua kelas (Kehamilan Risiko Rendah (KRR), Kehamilan Risiko Sedang/Tinggi (KRST), dan Kehamilan Risiko Tinggi (KRT)) terprediksi dengan akurasi 100%\n",
    "- Memiliki kemungkinan overfitting"
   ]
  },
  {
   "cell_type": "code",
   "execution_count": 50,
   "id": "a9d07b9c",
   "metadata": {
    "colab": {
     "base_uri": "https://localhost:8080/",
     "height": 748
    },
    "executionInfo": {
     "elapsed": 621,
     "status": "ok",
     "timestamp": 1746862209339,
     "user": {
      "displayName": "Dyah Megawati",
      "userId": "05129674134829867442"
     },
     "user_tz": -420
    },
    "id": "a9d07b9c",
    "outputId": "19aa34b8-831d-490d-8b9f-c771b0730989"
   },
   "outputs": [
    {
     "data": {
      "image/png": "[encoded data removed]",
      "text/plain": [
       "<Figure size 2000x1000 with 1 Axes>"
      ]
     },
     "metadata": {},
     "output_type": "display_data"
    }
   ],
   "source": [
    "# Visualisasi Decision Tree\n",
    "plt.figure(figsize=(20, 10))\n",
    "plot_tree(\n",
    "    model,\n",
    "    feature_names=X.columns,\n",
    "    class_names=['KRR', 'KRST', 'KRT'],\n",
    "    filled=True,\n",
    "    rounded=True,\n",
    "    fontsize=10\n",
    ")\n",
    "plt.title(\"Visualisasi Decision Tree\")\n",
    "plt.show()\n"
   ]
  },
  {
   "cell_type": "code",
   "execution_count": 51,
   "id": "Dhll4q6crirY",
   "metadata": {
    "colab": {
     "base_uri": "https://localhost:8080/"
    },
    "executionInfo": {
     "elapsed": 21,
     "status": "ok",
     "timestamp": 1746802261643,
     "user": {
      "displayName": "Dyah Megawati",
      "userId": "05129674134829867442"
     },
     "user_tz": -420
    },
    "id": "Dhll4q6crirY",
    "outputId": "1e261ad5-c994-4ec9-93f2-5785ed7116f1"
   },
   "outputs": [],
   "source": [
    "# # Path untuk menyimpan model\n",
    "# model_path = \"decision_tree_model.pkl\"\n",
    "\n",
    "# # Menyimpan model menggunakan pickle\n",
    "# with open(model_path, \"wb\") as file:\n",
    "#     pickle.dump(model, file)\n",
    "\n",
    "# print(f\"Model berhasil disimpan di: {model_path}\")\n"
   ]
  }
 ],
 "metadata": {
  "colab": {
   "provenance": [
    {
     "file_id": "1WUTqN69jCr-ZgYHZHm5I_HEjenjA8OFb",
     "timestamp": 1746802279746
    },
    {
     "file_id": "18jxnVlsdSN0DGppdiTDXtFfJxgA5wR0U",
     "timestamp": 1746588787967
    }
   ]
  },
  "kernelspec": {
   "display_name": "lat_ml",
   "language": "python",
   "name": "python3"
  },
  "language_info": {
   "codemirror_mode": {
    "name": "ipython",
    "version": 3
   },
   "file_extension": ".py",
   "mimetype": "text/x-python",
   "name": "python",
   "nbconvert_exporter": "python",
   "pygments_lexer": "ipython3",
   "version": "3.9.18"
  }
 },
 "nbformat": 4,
 "nbformat_minor": 5
}
